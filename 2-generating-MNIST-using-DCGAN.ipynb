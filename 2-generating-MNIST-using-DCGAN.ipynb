{
  "nbformat": 4,
  "nbformat_minor": 0,
  "metadata": {
    "colab": {
      "name": "2-generating-MNIST-using-DCGAN.ipynb",
      "version": "0.3.2",
      "views": {},
      "default_view": {},
      "provenance": [
        {
          "file_id": "1-gZzRvHRtdYkkbBfyq-apeUIeXyS2WNp",
          "timestamp": 1515228654502
        },
        {
          "file_id": "11xnsSsgUH3TGDQGK9RF0kDx6CNSQypz6",
          "timestamp": 1515160271563
        },
        {
          "file_id": "12CU-BNQYc5dkE84OFBTQ3Du1m1nVTAwY",
          "timestamp": 1514629113765
        }
      ],
      "collapsed_sections": [
        "0bCdD0dqmuIB"
      ]
    },
    "kernelspec": {
      "name": "python3",
      "display_name": "Python 3"
    }
  },
  "cells": [
    {
      "metadata": {
        "id": "vNG236FtmuH8",
        "colab_type": "text"
      },
      "source": [
        "# Generating images using DCGAN\n",
        "Sequel to the [first notebook](https://github.com/jppgks/shenanigan/blob/master/1.%20generating-samples-from-1D-gaussian.ipynb) on generating samples from a 1-D Gaussian. In this notebook, we'll cherry-pick from existing deep convolutional GAN implementations to generate images.\n",
        "\n",
        "This one builds on https://bamos.github.io/2016/08/09/deep-completion/#ml-heavy-generative-adversarial-net-gan-building-blocks (The MIT License (MIT), Copyright (c) 2013 Brandon Amos <http://bamos.github.io>) and cherry-picked network setup from https://github.com/tensorflow/models/blob/master/research/gan/tutorial.ipynb (Copyright 2017 The TensorFlow Authors, Apache License, Version 2.0)."
      ],
      "cell_type": "markdown"
    },
    {
      "metadata": {
        "id": "7LtUb_gHmuH9",
        "colab_type": "text"
      },
      "source": [
        "## Development environment\n",
        "Let's start with setting up our development environment by loading the necessary libraries."
      ],
      "cell_type": "markdown"
    },
    {
      "metadata": {
        "id": "80Kpnm1TviK9",
        "colab_type": "text"
      },
      "source": [
        "Instead of standard TensorFlow, we will use the recently released \"eager execution\". This provides define-by-run access to most of the standard TensorFlow API. Details about eager execution can be found in this Google Research blog post [link text](https://research.googleblog.com/2017/10/eager-execution-imperative-define-by.html).\n",
        "\n",
        "At the time of writing, the latest stable release of TensorFlow is 1.4.1 which does not include the eager functionality. Therefore, we install the nightly build before continuing."
      ],
      "cell_type": "markdown"
    },
    {
      "metadata": {
        "id": "B0hMh-opoLAe",
        "colab_type": "code",
        "colab": {
          "autoexec": {
            "startup": false,
            "wait_interval": 0
          },
          "output_extras": [
            {}
          ],
          "base_uri": "https://localhost:8080/",
          "height": 34
        },
        "outputId": "97db22f8-d5f3-4c3f-ba53-26cfe841fdb2",
        "executionInfo": {
          "status": "ok",
          "timestamp": 1515274811430,
          "user_tz": -60,
          "elapsed": 32563,
          "user": {
            "displayName": "Joppe Geluykens",
            "photoUrl": "//lh3.googleusercontent.com/-u5lK1xWCYts/AAAAAAAAAAI/AAAAAAAABBI/Ep77HQ5tBIc/s50-c-k-no/photo.jpg",
            "userId": "107236456363263425133"
          }
        }
      },
      "source": [
        "! pip uninstall -yq tensorflow\n",
        "! pip uninstall -yq tf-nightly\n",
        "! pip install -Uq tf-nightly"
      ],
      "cell_type": "code",
      "execution_count": 0,
      "outputs": [
        {
          "output_type": "stream",
          "text": [
            "\u001b[31mCannot uninstall requirement tf-nightly, not installed\u001b[0m\r\n"
          ],
          "name": "stdout"
        }
      ]
    },
    {
      "metadata": {
        "id": "9QgSj7jVxaM4",
        "colab_type": "text"
      },
      "source": [
        "We first import TensorFlow as usual and then import `tensorflow.contrib.eager` and enable eager execution.\n",
        "\n",
        "The other dependencies for this notebook are NumPy and some packages for plotting."
      ],
      "cell_type": "markdown"
    },
    {
      "metadata": {
        "id": "jnWlYZCqmuH-",
        "colab_type": "code",
        "colab": {
          "autoexec": {
            "startup": false,
            "wait_interval": 0
          },
          "output_extras": [
            {}
          ],
          "base_uri": "https://localhost:8080/",
          "height": 34
        },
        "outputId": "872429ee-577f-4234-ecf6-5b55efa54efe",
        "executionInfo": {
          "status": "ok",
          "timestamp": 1515274814384,
          "user_tz": -60,
          "elapsed": 2920,
          "user": {
            "displayName": "Joppe Geluykens",
            "photoUrl": "//lh3.googleusercontent.com/-u5lK1xWCYts/AAAAAAAAAAI/AAAAAAAABBI/Ep77HQ5tBIc/s50-c-k-no/photo.jpg",
            "userId": "107236456363263425133"
          }
        }
      },
      "source": [
        "# Import TensorFlow\n",
        "import tensorflow as tf\n",
        "print(\"Running TensorFlow version \" + tf.VERSION)\n",
        "# Define by run (https://research.googleblog.com/2017/10/eager-execution-imperative-define-by.html)\n",
        "import tensorflow.contrib.eager as tfe\n",
        "tfe.enable_eager_execution()\n",
        "\n",
        "# Import GAN module as alias\n",
        "import tensorflow.contrib.gan as tfgan \n",
        "\n",
        "import numpy as np\n",
        "import matplotlib.pyplot as plt\n",
        "from scipy.stats import norm\n",
        "from IPython import display\n",
        "%matplotlib inline"
      ],
      "cell_type": "code",
      "execution_count": 0,
      "outputs": [
        {
          "output_type": "stream",
          "text": [
            "Running TensorFlow version 1.6.0-dev20180105\n"
          ],
          "name": "stdout"
        }
      ]
    },
    {
      "metadata": {
        "id": "Is5WqMLhLEOc",
        "colab_type": "code",
        "colab": {
          "autoexec": {
            "startup": false,
            "wait_interval": 0
          },
          "output_extras": [
            {}
          ],
          "base_uri": "https://localhost:8080/",
          "height": 119
        },
        "outputId": "3d3ffc16-58b6-4f90-f696-645c36ab329a",
        "executionInfo": {
          "status": "ok",
          "timestamp": 1515274828495,
          "user_tz": -60,
          "elapsed": 14090,
          "user": {
            "displayName": "Joppe Geluykens",
            "photoUrl": "//lh3.googleusercontent.com/-u5lK1xWCYts/AAAAAAAAAAI/AAAAAAAABBI/Ep77HQ5tBIc/s50-c-k-no/photo.jpg",
            "userId": "107236456363263425133"
          }
        }
      },
      "source": [
        "# Make mnist helpers discoverable\n",
        "import sys\n",
        "! git clone https://github.com/tensorflow/models\n",
        "sys.path.append('models/research/gan')\n",
        "\n",
        "# Make slim models discoverable\n",
        "sys.path.append('models/research/slim')"
      ],
      "cell_type": "code",
      "execution_count": 0,
      "outputs": [
        {
          "output_type": "stream",
          "text": [
            "Cloning into 'models'...\n",
            "remote: Counting objects: 10038, done.\u001b[K\n",
            "remote: Compressing objects: 100% (44/44), done.\u001b[K\n",
            "remote: Total 10038 (delta 30), reused 53 (delta 20), pack-reused 9971\u001b[K\n",
            "Receiving objects: 100% (10038/10038), 313.61 MiB | 42.44 MiB/s, done.\n",
            "Resolving deltas: 100% (5222/5222), done.\n"
          ],
          "name": "stdout"
        }
      ]
    },
    {
      "metadata": {
        "id": "0bCdD0dqmuIB",
        "colab_type": "text"
      },
      "source": [
        "## Defining noise distribution $p_z$ and expected generator behavior\n",
        "This time, our noise prior $p_z$  is a uniform distribution between -1 and 1. Sampling this distribution is written as $z\\sim p_z$."
      ],
      "cell_type": "markdown"
    },
    {
      "metadata": {
        "id": "KnZAnofIRxks",
        "colab_type": "code",
        "colab": {
          "autoexec": {
            "startup": false,
            "wait_interval": 0
          },
          "output_extras": [
            {}
          ],
          "base_uri": "https://localhost:8080/",
          "height": 54
        },
        "outputId": "43ec1d5d-f143-427e-fcd5-b3260545c639",
        "executionInfo": {
          "status": "ok",
          "timestamp": 1515274829162,
          "user_tz": -60,
          "elapsed": 637,
          "user": {
            "displayName": "Joppe Geluykens",
            "photoUrl": "//lh3.googleusercontent.com/-u5lK1xWCYts/AAAAAAAAAAI/AAAAAAAABBI/Ep77HQ5tBIc/s50-c-k-no/photo.jpg",
            "userId": "107236456363263425133"
          }
        }
      },
      "source": [
        "z = np.random.uniform(-1, 1, 5)\n",
        "z"
      ],
      "cell_type": "code",
      "execution_count": 0,
      "outputs": [
        {
          "output_type": "execute_result",
          "data": {
            "text/plain": [
              "array([-0.16682476,  0.14921495,  0.80300683,  0.68030125, -0.07929855])"
            ]
          },
          "metadata": {
            "tags": []
          },
          "execution_count": 5
        }
      ]
    },
    {
      "metadata": {
        "id": "xpqcrHj2WYKC",
        "colab_type": "text"
      },
      "source": [
        "Now that we have a simple distribution we can easily sample from, we'd like to define our generator $G(z)$ that produces samples from the original probability distribution (images).\n",
        "\n",
        "```\n",
        "def G(z): \n",
        "  ... \n",
        "  \n",
        "  return imageSample\n",
        "\n",
        "z = np.random.uniform(-1, 1, 5) \n",
        "imageSample = G(z)\n",
        "```\n",
        "\n",
        "In order to do so from a lower-dimensional input ($z\\sim p_z$), we'll use the transpose of a convolutional layer (the default when dealing with images): **fractionally-strided convolutions** ([A guide to convolution arithmetic for deep learning](https://arxiv.org/pdf/1603.07285.pdf), chapter 4). This operations scales its input to a higher dimension. The generator will tweak the parameters involved in such a fractionally-strided convolution layer so the output of this upsampling resembles the target distribution of natural images.\n",
        "\n",
        "<img src=\"https://bamos.github.io/data/2016-08-09/gen-architecture.png\" height=\"200px\"></img>\n",
        "> *Generator architecture from [DCGAN paper](https://arxiv.org/abs/1511.06434)*\n",
        "\n",
        "The discriminator takes an image as input and scales it down to one scalar, representing the probability it came from the data generating distribution $p_{data}$. $D$ will therefore use standard convolution."
      ],
      "cell_type": "markdown"
    },
    {
      "metadata": {
        "id": "uG1CGlewAA9G",
        "colab_type": "text"
      },
      "source": [
        "## Helpers"
      ],
      "cell_type": "markdown"
    },
    {
      "metadata": {
        "id": "TIfwp8s0_zQf",
        "colab_type": "code",
        "colab": {
          "autoexec": {
            "startup": false,
            "wait_interval": 0
          }
        }
      },
      "source": [
        "def visualize_training_generator(train_step_num, start_time, data_np):\n",
        "    \"\"\"Visualize generator outputs during training.\n",
        "    \n",
        "    Args:\n",
        "        train_step_num: The training step number. A python integer.\n",
        "        start_time: Time when training started. The output of `time.time()`. A\n",
        "            python float.\n",
        "        data: Data to plot. A numpy array, most likely from an evaluated TensorFlow\n",
        "            tensor.\n",
        "    \"\"\"\n",
        "    print('Training step: %i' % train_step_num)\n",
        "    time_since_start = (time.time() - start_time) / 60.0\n",
        "    print('Time since start: %f m' % time_since_start)\n",
        "    print('Steps per min: %f' % (train_step_num / time_since_start))\n",
        "    plt.axis('off')\n",
        "    plt.imshow(np.squeeze(data_np), cmap='gray')\n",
        "    plt.show()\n",
        "\n",
        "def visualize_digits(images_np):\n",
        "    \"\"\"Visualize an image once. Used to visualize generator before training.\n",
        "    \n",
        "    Args:\n",
        "        tensor_to_visualize: An image tensor to visualize. A python Tensor.\n",
        "    \"\"\"\n",
        "    plt.axis('off')\n",
        "    plt.imshow(np.squeeze(images_np), cmap='gray')"
      ],
      "cell_type": "code",
      "execution_count": 0,
      "outputs": []
    },
    {
      "metadata": {
        "id": "qq4vJE1fGwBQ",
        "colab_type": "text"
      },
      "source": [
        "## Data input pipeline"
      ],
      "cell_type": "markdown"
    },
    {
      "metadata": {
        "id": "H2oVc_l2NDiH",
        "colab_type": "text"
      },
      "source": [
        "### Load and preprocess data"
      ],
      "cell_type": "markdown"
    },
    {
      "metadata": {
        "id": "s6S9efnsM_va",
        "colab_type": "code",
        "colab": {
          "autoexec": {
            "startup": false,
            "wait_interval": 0
          },
          "output_extras": [
            {}
          ],
          "base_uri": "https://localhost:8080/",
          "height": 153
        },
        "outputId": "dbcafc35-6e3f-4066-b3eb-94a89cb1c75a",
        "executionInfo": {
          "status": "ok",
          "timestamp": 1515274831614,
          "user_tz": -60,
          "elapsed": 1580,
          "user": {
            "displayName": "Joppe Geluykens",
            "photoUrl": "//lh3.googleusercontent.com/-u5lK1xWCYts/AAAAAAAAAAI/AAAAAAAABBI/Ep77HQ5tBIc/s50-c-k-no/photo.jpg",
            "userId": "107236456363263425133"
          }
        }
      },
      "source": [
        "from tensorflow.examples.tutorials.mnist import input_data\n",
        "\n",
        "MNIST_DATA_DIR = '/tmp/mnist-data'\n",
        "batch_size = 32\n",
        "\n",
        "if not tf.gfile.Exists(MNIST_DATA_DIR):\n",
        "    tf.gfile.MakeDirs(MNIST_DATA_DIR)\n",
        "\n",
        "# Returns training and test tf.data.Dataset objects.\n",
        "data = input_data.read_data_sets(MNIST_DATA_DIR)\n",
        "\n",
        "dataset = (tf.data.Dataset\n",
        "           .from_tensor_slices(data.train.images)\n",
        "           .map(lambda x: (x - 0.5) / 0.5)\n",
        "           .shuffle(60000)\n",
        "           .batch(batch_size))\n",
        "\n",
        "# Use both train and validation images as real data\n",
        "#train_ds = tf.data.Dataset.from_tensor_slices(data.train.images)\n",
        "#val_ds = tf.data.Dataset.from_tensor_slices(data.validation.images)\n",
        "#train_ds = train_ds.concatenate(val_ds)\n",
        "\n",
        "# Reshape them into images\n",
        "#train_ds = train_ds.map(lambda x: tf.image.resize_images(tf.reshape(x, [28, 28, 1]), [64, 64])) \n",
        "# and normalize\n",
        "#train_ds = train_ds.map(lambda x: (x - 0.5) / 0.5) #tf.reshape(x, [28, 28, 1])\n",
        "\n",
        "# And make batches\n",
        "#train_ds = train_ds.shuffle(60000).batch(batch_size)\n"
      ],
      "cell_type": "code",
      "execution_count": 0,
      "outputs": [
        {
          "output_type": "stream",
          "text": [
            "Successfully downloaded train-images-idx3-ubyte.gz 9912422 bytes.\n",
            "Extracting /tmp/mnist-data/train-images-idx3-ubyte.gz\n",
            "Successfully downloaded train-labels-idx1-ubyte.gz 28881 bytes.\n",
            "Extracting /tmp/mnist-data/train-labels-idx1-ubyte.gz\n",
            "Successfully downloaded t10k-images-idx3-ubyte.gz 1648877 bytes.\n",
            "Extracting /tmp/mnist-data/t10k-images-idx3-ubyte.gz\n",
            "Successfully downloaded t10k-labels-idx1-ubyte.gz 4542 bytes.\n",
            "Extracting /tmp/mnist-data/t10k-labels-idx1-ubyte.gz\n"
          ],
          "name": "stdout"
        }
      ]
    },
    {
      "metadata": {
        "id": "SE8hGfU_el5H",
        "colab_type": "text"
      },
      "source": [
        "Sanity check that our real data batches look like images:"
      ],
      "cell_type": "markdown"
    },
    {
      "metadata": {
        "id": "z3vHvVU3ZApt",
        "colab_type": "code",
        "colab": {
          "autoexec": {
            "startup": false,
            "wait_interval": 0
          },
          "output_extras": [
            {}
          ],
          "base_uri": "https://localhost:8080/",
          "height": 118
        },
        "outputId": "eff2b6e3-7a14-4a1d-965d-c6f1fdda4ac1",
        "executionInfo": {
          "status": "ok",
          "timestamp": 1515274833074,
          "user_tz": -60,
          "elapsed": 1429,
          "user": {
            "displayName": "Joppe Geluykens",
            "photoUrl": "//lh3.googleusercontent.com/-u5lK1xWCYts/AAAAAAAAAAI/AAAAAAAABBI/Ep77HQ5tBIc/s50-c-k-no/photo.jpg",
            "userId": "107236456363263425133"
          }
        }
      },
      "source": [
        "generated_data_to_visualize = tfgan.eval.image_reshaper(\n",
        "    tf.reshape(tfe.Iterator(dataset).next()[:20], [20, 28, 28, 1]), num_cols=10)\n",
        "visualize_digits(generated_data_to_visualize)"
      ],
      "cell_type": "code",
      "execution_count": 0,
      "outputs": [
        {
          "output_type": "display_data",
          "data": {
            "image/png": "[encoded data removed]",
            "text/plain": [
              "<matplotlib.figure.Figure at 0x7fdee39c7cf8>"
            ]
          },
          "metadata": {
            "tags": []
          }
        }
      ]
    },
    {
      "metadata": {
        "id": "5iIGadkqmuIE",
        "colab_type": "text"
      },
      "source": [
        "## Defining generator and discriminator models\n"
      ],
      "cell_type": "markdown"
    },
    {
      "metadata": {
        "id": "c5WyYNFQB652",
        "colab_type": "text"
      },
      "source": [
        "### Generator"
      ],
      "cell_type": "markdown"
    },
    {
      "metadata": {
        "id": "khOXfs_Yxn0j",
        "colab_type": "code",
        "colab": {
          "autoexec": {
            "startup": false,
            "wait_interval": 0
          }
        }
      },
      "source": [
        "leaky_relu = lambda net: tf.nn.leaky_relu(net, alpha=0.2)"
      ],
      "cell_type": "code",
      "execution_count": 0,
      "outputs": []
    },
    {
      "metadata": {
        "id": "FDBcCZQdmuIE",
        "colab_type": "code",
        "colab": {
          "autoexec": {
            "startup": false,
            "wait_interval": 0
          }
        }
      },
      "source": [
        "layers = tf.contrib.layers\n",
        "\n",
        "class Generator(tfe.Network):\n",
        "  def __init__(self, data_format):\n",
        "    super(Generator, self).__init__()\n",
        "    \n",
        "    self.data_format = data_format\n",
        "    # We are using 128 6x6 channels as input to the first deconvolution layer\n",
        "    if data_format == 'channels_first':\n",
        "      self._pre_conv_shape = [-1, 128, 6, 6]\n",
        "    else:\n",
        "      assert data_format == 'channels_last'\n",
        "      self._pre_conv_shape = [-1, 6, 6, 128]\n",
        "    \n",
        "    self.fc1 = self.track_layer(tf.layers.Dense(6 * 6 * 128,\n",
        "                                                activation=tf.nn.relu))\n",
        "\n",
        "    # In call(), we reshape the output of fc1 to _pre_conv_shape\n",
        "\n",
        "    # Deconvolution layer. Resulting image shape: (batch, 14, 14, 64)\n",
        "    self.conv1 = self.track_layer(tf.layers.Conv2DTranspose(\n",
        "        64, 4, strides=2, activation=tf.nn.relu, data_format=data_format))\n",
        "    #self.conv1_bn = self.track_layer(tf.layers.BatchNormalization())\n",
        "\n",
        "    # Deconvolution layer. Resulting image shape: (batch, 28, 28, 1)\n",
        "    self.conv2 = self.track_layer(tf.layers.Conv2DTranspose(\n",
        "        1, 2, strides=2, activation=tf.tanh, data_format=data_format))\n",
        "\n",
        "  def call(self, inputs, training=True):\n",
        "    \"\"\"Actually runs the model.\"\"\"\n",
        "    x = self.fc1(inputs)\n",
        "    x = tf.reshape(x, shape=self._pre_conv_shape)\n",
        "    x = self.conv1(x)\n",
        "    #if training:\n",
        "    #  x = self.conv1_bn(x)\n",
        "    x = self.conv2(x)\n",
        "    return x"
      ],
      "cell_type": "code",
      "execution_count": 0,
      "outputs": []
    },
    {
      "metadata": {
        "id": "Bf_q8QtNd5eh",
        "colab_type": "text"
      },
      "source": [
        "Now we're ready to instantiate a generator:"
      ],
      "cell_type": "markdown"
    },
    {
      "metadata": {
        "id": "6vN12Bx4rqg5",
        "colab_type": "code",
        "colab": {
          "autoexec": {
            "startup": false,
            "wait_interval": 0
          }
        }
      },
      "source": [
        "(device, data_format) = ('/cpu:0', 'channels_last')"
      ],
      "cell_type": "code",
      "execution_count": 0,
      "outputs": []
    },
    {
      "metadata": {
        "id": "CvVoti3odl0U",
        "colab_type": "code",
        "colab": {
          "autoexec": {
            "startup": false,
            "wait_interval": 0
          }
        }
      },
      "source": [
        "G = Generator(data_format)"
      ],
      "cell_type": "code",
      "execution_count": 0,
      "outputs": []
    },
    {
      "metadata": {
        "id": "ea0srIxDd-P_",
        "colab_type": "text"
      },
      "source": [
        "Make sure that it is outputting garbage before training:"
      ],
      "cell_type": "markdown"
    },
    {
      "metadata": {
        "id": "z_hXFdR_ogMa",
        "colab_type": "code",
        "colab": {
          "autoexec": {
            "startup": false,
            "wait_interval": 0
          },
          "output_extras": [
            {}
          ],
          "base_uri": "https://localhost:8080/",
          "height": 34
        },
        "outputId": "d4f4e629-9f14-48df-9e35-e15cc0e6a80f",
        "executionInfo": {
          "status": "ok",
          "timestamp": 1515274836404,
          "user_tz": -60,
          "elapsed": 593,
          "user": {
            "displayName": "Joppe Geluykens",
            "photoUrl": "//lh3.googleusercontent.com/-u5lK1xWCYts/AAAAAAAAAAI/AAAAAAAABBI/Ep77HQ5tBIc/s50-c-k-no/photo.jpg",
            "userId": "107236456363263425133"
          }
        }
      },
      "source": [
        "noise_dims = 100\n",
        "generator_inputs = tf.random_normal([batch_size, 1, 1, noise_dims])\n",
        "generated_samples = G(generator_inputs, training=False)\n",
        "generated_samples.shape"
      ],
      "cell_type": "code",
      "execution_count": 0,
      "outputs": [
        {
          "output_type": "execute_result",
          "data": {
            "text/plain": [
              "TensorShape([Dimension(32), Dimension(28), Dimension(28), Dimension(1)])"
            ]
          },
          "metadata": {
            "tags": []
          },
          "execution_count": 13
        }
      ]
    },
    {
      "metadata": {
        "id": "ryjqvvHXAM7U",
        "colab_type": "code",
        "colab": {
          "autoexec": {
            "startup": false,
            "wait_interval": 0
          },
          "output_extras": [
            {}
          ],
          "base_uri": "https://localhost:8080/",
          "height": 118
        },
        "outputId": "241d7aa4-e914-4bd4-e84a-7129f4cee76f",
        "executionInfo": {
          "status": "ok",
          "timestamp": 1515274837402,
          "user_tz": -60,
          "elapsed": 855,
          "user": {
            "displayName": "Joppe Geluykens",
            "photoUrl": "//lh3.googleusercontent.com/-u5lK1xWCYts/AAAAAAAAAAI/AAAAAAAABBI/Ep77HQ5tBIc/s50-c-k-no/photo.jpg",
            "userId": "107236456363263425133"
          }
        }
      },
      "source": [
        "generated_data_to_visualize = tfgan.eval.image_reshaper(\n",
        "    generated_samples[:20], num_cols=10)\n",
        "visualize_digits(generated_data_to_visualize)"
      ],
      "cell_type": "code",
      "execution_count": 0,
      "outputs": [
        {
          "output_type": "display_data",
          "data": {
            "image/png": "[encoded data removed]",
            "text/plain": [
              "<matplotlib.figure.Figure at 0x7fdee39c7550>"
            ]
          },
          "metadata": {
            "tags": []
          }
        }
      ]
    },
    {
      "metadata": {
        "id": "Ca2MtaLqOjh2",
        "colab_type": "code",
        "colab": {
          "autoexec": {
            "startup": false,
            "wait_interval": 0
          },
          "output_extras": [
            {},
            {}
          ],
          "base_uri": "https://localhost:8080/",
          "height": 169
        },
        "outputId": "12b57365-8828-4e8e-aeb1-e671e3b4f654",
        "executionInfo": {
          "status": "ok",
          "timestamp": 1515274838322,
          "user_tz": -60,
          "elapsed": 793,
          "user": {
            "displayName": "Joppe Geluykens",
            "photoUrl": "//lh3.googleusercontent.com/-u5lK1xWCYts/AAAAAAAAAAI/AAAAAAAABBI/Ep77HQ5tBIc/s50-c-k-no/photo.jpg",
            "userId": "107236456363263425133"
          }
        }
      },
      "source": [
        "import time\n",
        "generated_data_to_visualize = tfgan.eval.image_reshaper(\n",
        "    generated_samples[:20], num_cols=10)\n",
        "visualize_training_generator(0, 0, generated_data_to_visualize)"
      ],
      "cell_type": "code",
      "execution_count": 0,
      "outputs": [
        {
          "output_type": "stream",
          "text": [
            "Training step: 0\n",
            "Time since start: 25254580.674825 m\n",
            "Steps per min: 0.000000\n"
          ],
          "name": "stdout"
        },
        {
          "output_type": "display_data",
          "data": {
            "image/png": "[encoded data removed]",
            "text/plain": [
              "<matplotlib.figure.Figure at 0x7fdee399f978>"
            ]
          },
          "metadata": {
            "tags": []
          }
        }
      ]
    },
    {
      "metadata": {
        "id": "qwn7j3PWCAb1",
        "colab_type": "text"
      },
      "source": [
        "### Discriminator"
      ],
      "cell_type": "markdown"
    },
    {
      "metadata": {
        "id": "PRXPvtegCCOD",
        "colab_type": "code",
        "colab": {
          "autoexec": {
            "startup": false,
            "wait_interval": 0
          }
        }
      },
      "source": [
        "class Discriminator(tfe.Network):\n",
        "  def __init__(self, data_format):\n",
        "    super(Discriminator, self).__init__()\n",
        "    \n",
        "    if data_format == 'channels_first':\n",
        "      self._input_shape = [-1, 1, 28, 28]\n",
        "    else:\n",
        "      assert data_format == 'channels_last'\n",
        "      self._input_shape = [-1, 28, 28, 1]\n",
        "    \n",
        "    self.conv1 = self.track_layer(tf.layers.Conv2D(64, 5, padding='SAME',\n",
        "                                                   data_format=data_format,\n",
        "                                                   activation=leaky_relu))\n",
        "    #self.conv1_bn = self.track_layer(tf.layers.BatchNormalization())\n",
        "    #self.pool1 = self.track_layer(\n",
        "    #    tf.layers.AveragePooling2D(2, 2, data_format=data_format))\n",
        "    \n",
        "    self.conv2 = self.track_layer(tf.layers.Conv2D(128, 5,\n",
        "                                                   data_format=data_format,\n",
        "                                                   activation=leaky_relu))\n",
        "    #self.conv2_bn = self.track_layer(tf.layers.BatchNormalization())\n",
        "    #self.pool2 = self.track_layer(\n",
        "    #    tf.layers.AveragePooling2D(2, 2, data_format=data_format))\n",
        "    \n",
        "    self.flatten = self.track_layer(tf.layers.Flatten())\n",
        "    \n",
        "    self.fc1 = self.track_layer(tf.layers.Dense(1024, activation=leaky_relu))\n",
        "    self.fc2 = self.track_layer(tf.layers.Dense(1, activation=None))\n",
        "  \n",
        "  def call(self, inputs, training=True):\n",
        "    \"\"\"Actually runs the model.\"\"\"\n",
        "    x = tf.reshape(inputs, self._input_shape)\n",
        "    x = self.conv1(x)\n",
        "    #x = self.conv1_bn(x, training=training)\n",
        "    #x = self.pool1(x)\n",
        "    \n",
        "    x = self.conv2(x)\n",
        "    #if training:\n",
        "    #  x = self.conv2_bn(x, training=training)\n",
        "    #x = self.pool2(x)\n",
        "    \n",
        "    x = self.flatten(x)\n",
        "    x = self.fc1(x)\n",
        "    x = self.fc2(x)\n",
        "    return x"
      ],
      "cell_type": "code",
      "execution_count": 0,
      "outputs": []
    },
    {
      "metadata": {
        "id": "lCIp1_jC4mFc",
        "colab_type": "text"
      },
      "source": [
        "Let's instantiate a discriminator:"
      ],
      "cell_type": "markdown"
    },
    {
      "metadata": {
        "id": "-QSpjXDv4brv",
        "colab_type": "code",
        "colab": {
          "autoexec": {
            "startup": false,
            "wait_interval": 0
          }
        }
      },
      "source": [
        "D = Discriminator(data_format)"
      ],
      "cell_type": "code",
      "execution_count": 0,
      "outputs": []
    },
    {
      "metadata": {
        "id": "45N5sd7zPlbN",
        "colab_type": "text"
      },
      "source": [
        "Initialize dimensions of variables etc:"
      ],
      "cell_type": "markdown"
    },
    {
      "metadata": {
        "id": "BMROecyPPo5I",
        "colab_type": "code",
        "colab": {
          "autoexec": {
            "startup": false,
            "wait_interval": 0
          },
          "output_extras": [
            {}
          ],
          "base_uri": "https://localhost:8080/",
          "height": 578
        },
        "outputId": "977d04d6-f5cf-47cb-fafa-546a4c205b6d",
        "executionInfo": {
          "status": "ok",
          "timestamp": 1515274842378,
          "user_tz": -60,
          "elapsed": 2474,
          "user": {
            "displayName": "Joppe Geluykens",
            "photoUrl": "//lh3.googleusercontent.com/-u5lK1xWCYts/AAAAAAAAAAI/AAAAAAAABBI/Ep77HQ5tBIc/s50-c-k-no/photo.jpg",
            "userId": "107236456363263425133"
          }
        }
      },
      "source": [
        "D(generated_samples)"
      ],
      "cell_type": "code",
      "execution_count": 0,
      "outputs": [
        {
          "output_type": "execute_result",
          "data": {
            "text/plain": [
              "<tf.Tensor: id=362, shape=(32, 1), dtype=float32, numpy=\n",
              "array([[  3.15277465e-03],\n",
              "       [ -9.50451707e-04],\n",
              "       [ -3.56810819e-03],\n",
              "       [ -1.01500354e-03],\n",
              "       [ -1.60333002e-04],\n",
              "       [  3.80192912e-04],\n",
              "       [  4.85292985e-04],\n",
              "       [ -3.58096207e-04],\n",
              "       [  8.67667142e-04],\n",
              "       [ -2.37630075e-03],\n",
              "       [ -3.00575746e-03],\n",
              "       [  2.30062054e-04],\n",
              "       [ -3.93919181e-05],\n",
              "       [  5.26490097e-04],\n",
              "       [ -6.47032051e-04],\n",
              "       [ -3.49767320e-03],\n",
              "       [ -2.90898304e-03],\n",
              "       [ -1.55489065e-03],\n",
              "       [ -2.40269746e-03],\n",
              "       [ -3.67587927e-04],\n",
              "       [ -3.73898214e-03],\n",
              "       [ -1.24573847e-03],\n",
              "       [  7.31731183e-04],\n",
              "       [ -1.37241452e-03],\n",
              "       [ -5.43178711e-03],\n",
              "       [ -8.66755552e-04],\n",
              "       [ -4.35060589e-03],\n",
              "       [  2.54381215e-04],\n",
              "       [  1.14134944e-03],\n",
              "       [ -2.54764833e-04],\n",
              "       [ -6.78511336e-03],\n",
              "       [ -2.82252440e-05]], dtype=float32)>"
            ]
          },
          "metadata": {
            "tags": []
          },
          "execution_count": 18
        }
      ]
    },
    {
      "metadata": {
        "id": "zgsQJE3BiNRv",
        "colab_type": "text"
      },
      "source": [
        "## GAN workout"
      ],
      "cell_type": "markdown"
    },
    {
      "metadata": {
        "id": "_ZMn2hPxEdvo",
        "colab_type": "text"
      },
      "source": [
        "### Define losses..."
      ],
      "cell_type": "markdown"
    },
    {
      "metadata": {
        "id": "jzo9qzPfmdtj",
        "colab_type": "code",
        "colab": {
          "autoexec": {
            "startup": false,
            "wait_interval": 0
          }
        }
      },
      "source": [
        "def discriminator_loss(D, G, x, noise):\n",
        "  D_real_logit = D(x)\n",
        "  generated_images = G(noise)\n",
        "  D_fake_logit = D(generated_images)\n",
        "  #dis_loss = tfgan.losses.wargs.wasserstein_discriminator_loss(D_real_logit, D_fake_logit)\n",
        "  dis_loss = tfgan.losses.wargs.minimax_discriminator_loss(D_real_logit, D_fake_logit)\n",
        "  #gp_loss = tfgan.losses.wargs.wasserstein_gradient_penalty(x, generated_data, z, D, None) ### add args\n",
        "  #gradient_penalty_weight = 1\n",
        "  #dis_loss += gradient_penalty_weight * gp_loss\n",
        "  return dis_loss"
      ],
      "cell_type": "code",
      "execution_count": 0,
      "outputs": []
    },
    {
      "metadata": {
        "id": "l-tRD5hShler",
        "colab_type": "code",
        "colab": {
          "autoexec": {
            "startup": false,
            "wait_interval": 0
          }
        }
      },
      "source": [
        "def generator_loss(D, G, noise):\n",
        "  D_fake_logit = D(G(noise))\n",
        "  gen_loss = tfgan.losses.wargs.minimax_generator_loss(D_fake_logit)\n",
        "  return gen_loss"
      ],
      "cell_type": "code",
      "execution_count": 0,
      "outputs": []
    },
    {
      "metadata": {
        "id": "rqLso_LYiPjJ",
        "colab_type": "text"
      },
      "source": [
        "### ...and optimizers"
      ],
      "cell_type": "markdown"
    },
    {
      "metadata": {
        "id": "RU1JVOUbiWBX",
        "colab_type": "code",
        "colab": {
          "autoexec": {
            "startup": false,
            "wait_interval": 0
          }
        }
      },
      "source": [
        "generator_optimizer = tf.train.AdamOptimizer(0.001, beta1=0.5)\n",
        "# Weight clipping by 0.01 as per https://arxiv.org/pdf/1701.07875.pdf\n",
        "discriminator_optimizer = tf.train.AdamOptimizer(0.0001, beta1=0.5)\n",
        "#discriminator_optimizer = tfgan.features.clip_variables(discriminator_optimizer, D.trainable_variables, 0.01)"
      ],
      "cell_type": "code",
      "execution_count": 0,
      "outputs": []
    },
    {
      "metadata": {
        "id": "kdTdp31_mQJt",
        "colab_type": "text"
      },
      "source": [
        "### Train step function"
      ],
      "cell_type": "markdown"
    },
    {
      "metadata": {
        "id": "L25_5Hb2mSZf",
        "colab_type": "code",
        "colab": {
          "autoexec": {
            "startup": false,
            "wait_interval": 0
          }
        }
      },
      "source": [
        "loss_values = []\n",
        "def train_on_all_data(log_interval=100, disc_steps_per_gen_step=1):\n",
        "  total_generator_loss = 0.0\n",
        "  total_discriminator_loss = 0.0\n",
        "  \n",
        "  import time\n",
        "  start_time = time.time()\n",
        "  \n",
        "  global_step = tf.train.get_or_create_global_step()\n",
        "  \n",
        "  for (batch_index, images) in enumerate(tfe.Iterator(dataset)):\n",
        "    with tf.device('/cpu:0'):\n",
        "      tf.assign_add(tf.train.get_global_step(), 1)\n",
        "\n",
        "    #with tf.contrib.summary.record_summaries_every_n_global_steps(log_interval):\n",
        "    current_batch_size = images.shape[0]\n",
        "    noise_dim = 100\n",
        "    noise = tf.random_uniform(shape=[current_batch_size, noise_dim],\n",
        "                              minval=-1., maxval=1., seed=batch_index)\n",
        "    \n",
        "    # Train discriminator.\n",
        "    for i in range(disc_steps_per_gen_step):\n",
        "\n",
        "      ## 3) Compute all partial derivatives of the loss function,\n",
        "\n",
        "      disc_loss, grads_and_vars = tfe.implicit_value_and_gradients(\n",
        "          discriminator_loss\n",
        "      )(D, G, images, noise)\n",
        "      total_discriminator_loss += disc_loss\n",
        "\n",
        "      ## 4) Optimize discriminator, and not generator (!).\n",
        "      discriminator_grads_and_vars = [gv for gv in grads_and_vars if gv[1] in D.trainable_variables]\n",
        "      discriminator_optimizer.apply_gradients(discriminator_grads_and_vars, global_step=global_step)\n",
        "\n",
        "    # Train generator.  \n",
        "    ## 2) Compute all partial derivatives of the loss function\n",
        "    gen_loss, grads_and_vars = tfe.implicit_value_and_gradients(\n",
        "        generator_loss\n",
        "    )(\n",
        "        D, G, noise\n",
        "    )\n",
        "    total_generator_loss += gen_loss\n",
        "\n",
        "    ## 3) Optimize generator, and not discriminator (!)\n",
        "    generator_grads_and_vars = [gv for gv in grads_and_vars if gv[1] in G.trainable_variables]\n",
        "    generator_optimizer.apply_gradients(generator_grads_and_vars, global_step=global_step)\n",
        "\n",
        "    cur_loss = disc_loss + gen_loss\n",
        "    loss_values.append((batch_index, cur_loss))\n",
        "\n",
        "    if batch_index % log_interval == 0:\n",
        "      print('Batch #%d\\tAverage Generator Loss: %.6f\\t'\n",
        "              'Average Discriminator Loss: %.6f' % (\n",
        "                  batch_index, total_generator_loss/batch_index,\n",
        "                  total_discriminator_loss/batch_index))\n",
        "      print('Current loss: %f' % cur_loss)\n",
        "      ## Update plot\n",
        "      generated_data_to_visualize = tfgan.eval.image_reshaper(\n",
        "        tf.reshape(G(noise, training=False), [-1, 28, 28, 1])[:20], num_cols=10)\n",
        "      visualize_training_generator(batch_index, start_time, generated_data_to_visualize)\n",
        "      display.display(plt.gcf())\n",
        "      display.clear_output(wait=True)\n",
        "\n",
        "  # Make sure only one plot remains in the output of this cell.\n",
        "  %matplotlib inline"
      ],
      "cell_type": "code",
      "execution_count": 0,
      "outputs": []
    },
    {
      "metadata": {
        "id": "oARZPwLh5nO4",
        "colab_type": "text"
      },
      "source": [
        "### Let's make our model sweat"
      ],
      "cell_type": "markdown"
    },
    {
      "metadata": {
        "id": "Unyd73ksrb3M",
        "colab_type": "code",
        "colab": {
          "autoexec": {
            "startup": false,
            "wait_interval": 0
          },
          "output_extras": [
            {
              "item_id": 1
            }
          ],
          "base_uri": "https://localhost:8080/",
          "height": 34
        },
        "outputId": "0d45d462-1db6-4fdf-90b6-589879255e15",
        "executionInfo": {
          "status": "ok",
          "timestamp": 1515279205640,
          "user_tz": -60,
          "elapsed": 529,
          "user": {
            "displayName": "Joppe Geluykens",
            "photoUrl": "//lh3.googleusercontent.com/-u5lK1xWCYts/AAAAAAAAAAI/AAAAAAAABBI/Ep77HQ5tBIc/s50-c-k-no/photo.jpg",
            "userId": "107236456363263425133"
          }
        }
      },
      "source": [
        "tf.train.get_or_create_global_step()"
      ],
      "cell_type": "code",
      "execution_count": 29,
      "outputs": [
        {
          "output_type": "execute_result",
          "data": {
            "text/plain": [
              "<tf.Variable 'global_step:0' shape=() dtype=int64, numpy=1571>"
            ]
          },
          "metadata": {
            "tags": []
          },
          "execution_count": 29
        }
      ]
    },
    {
      "metadata": {
        "id": "kXb01qJ3lE1L",
        "colab_type": "code",
        "colab": {
          "autoexec": {
            "startup": false,
            "wait_interval": 0
          },
          "output_extras": [
            {
              "item_id": 1
            },
            {
              "item_id": 2
            }
          ],
          "base_uri": "https://localhost:8080/",
          "height": 1629
        },
        "outputId": "35172f2d-4854-410c-c7f2-0904b1ef5feb",
        "executionInfo": {
          "status": "error",
          "timestamp": 1515279158286,
          "user_tz": -60,
          "elapsed": 39,
          "user": {
            "displayName": "Joppe Geluykens",
            "photoUrl": "//lh3.googleusercontent.com/-u5lK1xWCYts/AAAAAAAAAAI/AAAAAAAABBI/Ep77HQ5tBIc/s50-c-k-no/photo.jpg",
            "userId": "107236456363263425133"
          }
        }
      },
      "source": [
        "checkpoint_dir = '/tmp/tensorflow/mnist/checkpoints/'\n",
        "checkpoint_prefix = os.path.join(checkpoint_dir, 'ckpt')\n",
        "latest_cpkt = tf.train.latest_checkpoint(checkpoint_dir)\n",
        "if latest_cpkt:\n",
        "  print('Using latest checkpoint at ' + latest_cpkt)\n",
        "\n",
        "with tfe.restore_variables_on_create(latest_cpkt):\n",
        "  train_on_all_data(log_interval=1, disc_steps_per_gen_step=1)"
      ],
      "cell_type": "code",
      "execution_count": 26,
      "outputs": [
        {
          "output_type": "error",
          "ename": "KeyboardInterrupt",
          "evalue": "ignored",
          "traceback": [
            "\u001b[0;31m---------------------------------------------------------------------------\u001b[0m",
            "\u001b[0;31mKeyboardInterrupt\u001b[0m                         Traceback (most recent call last)",
            "\u001b[0;32m<ipython-input-26-fa6c217570fe>\u001b[0m in \u001b[0;36m<module>\u001b[0;34m()\u001b[0m\n\u001b[0;32m----> 1\u001b[0;31m \u001b[0mtrain_on_all_data\u001b[0m\u001b[0;34m(\u001b[0m\u001b[0mlog_interval\u001b[0m\u001b[0;34m=\u001b[0m\u001b[0;36m1\u001b[0m\u001b[0;34m,\u001b[0m \u001b[0mdisc_steps_per_gen_step\u001b[0m\u001b[0;34m=\u001b[0m\u001b[0;36m1\u001b[0m\u001b[0;34m)\u001b[0m\u001b[0;34m\u001b[0m\u001b[0m\n\u001b[0m",
            "\u001b[0;32m<ipython-input-24-1fdd8bda7967>\u001b[0m in \u001b[0;36mtrain_on_all_data\u001b[0;34m(log_interval, disc_steps_per_gen_step)\u001b[0m\n\u001b[1;32m     26\u001b[0m       disc_loss, grads_and_vars = tfe.implicit_value_and_gradients(\n\u001b[1;32m     27\u001b[0m           \u001b[0mdiscriminator_loss\u001b[0m\u001b[0;34m\u001b[0m\u001b[0m\n\u001b[0;32m---> 28\u001b[0;31m       )(D, G, images, noise)\n\u001b[0m\u001b[1;32m     29\u001b[0m       \u001b[0mtotal_discriminator_loss\u001b[0m \u001b[0;34m+=\u001b[0m \u001b[0mdisc_loss\u001b[0m\u001b[0;34m\u001b[0m\u001b[0m\n\u001b[1;32m     30\u001b[0m \u001b[0;34m\u001b[0m\u001b[0m\n",
            "\u001b[0;32m/usr/local/lib/python3.6/dist-packages/tensorflow/python/eager/backprop.py\u001b[0m in \u001b[0;36mgrad_fn\u001b[0;34m(*args)\u001b[0m\n\u001b[1;32m    347\u001b[0m     \u001b[0mtape\u001b[0m\u001b[0;34m.\u001b[0m\u001b[0mpush_new_tape\u001b[0m\u001b[0;34m(\u001b[0m\u001b[0;34m)\u001b[0m\u001b[0;34m\u001b[0m\u001b[0m\n\u001b[1;32m    348\u001b[0m     \u001b[0;32mtry\u001b[0m\u001b[0;34m:\u001b[0m\u001b[0;34m\u001b[0m\u001b[0m\n\u001b[0;32m--> 349\u001b[0;31m       \u001b[0mend_node\u001b[0m \u001b[0;34m=\u001b[0m \u001b[0mf\u001b[0m\u001b[0;34m(\u001b[0m\u001b[0;34m*\u001b[0m\u001b[0margs\u001b[0m\u001b[0;34m)\u001b[0m\u001b[0;34m\u001b[0m\u001b[0m\n\u001b[0m\u001b[1;32m    350\u001b[0m       \u001b[0;32mif\u001b[0m \u001b[0mend_node\u001b[0m \u001b[0;32mis\u001b[0m \u001b[0;32mNone\u001b[0m\u001b[0;34m:\u001b[0m\u001b[0;34m\u001b[0m\u001b[0m\n\u001b[1;32m    351\u001b[0m         raise ValueError(\"Cannot differentiate a function that returns None; \"\n",
            "\u001b[0;32m<ipython-input-19-df9289e9a6d8>\u001b[0m in \u001b[0;36mdiscriminator_loss\u001b[0;34m(D, G, x, noise)\u001b[0m\n\u001b[1;32m      1\u001b[0m \u001b[0;32mdef\u001b[0m \u001b[0mdiscriminator_loss\u001b[0m\u001b[0;34m(\u001b[0m\u001b[0mD\u001b[0m\u001b[0;34m,\u001b[0m \u001b[0mG\u001b[0m\u001b[0;34m,\u001b[0m \u001b[0mx\u001b[0m\u001b[0;34m,\u001b[0m \u001b[0mnoise\u001b[0m\u001b[0;34m)\u001b[0m\u001b[0;34m:\u001b[0m\u001b[0;34m\u001b[0m\u001b[0m\n\u001b[0;32m----> 2\u001b[0;31m   \u001b[0mD_real_logit\u001b[0m \u001b[0;34m=\u001b[0m \u001b[0mD\u001b[0m\u001b[0;34m(\u001b[0m\u001b[0mx\u001b[0m\u001b[0;34m)\u001b[0m\u001b[0;34m\u001b[0m\u001b[0m\n\u001b[0m\u001b[1;32m      3\u001b[0m   \u001b[0mgenerated_images\u001b[0m \u001b[0;34m=\u001b[0m \u001b[0mG\u001b[0m\u001b[0;34m(\u001b[0m\u001b[0mnoise\u001b[0m\u001b[0;34m)\u001b[0m\u001b[0;34m\u001b[0m\u001b[0m\n\u001b[1;32m      4\u001b[0m   \u001b[0mD_fake_logit\u001b[0m \u001b[0;34m=\u001b[0m \u001b[0mD\u001b[0m\u001b[0;34m(\u001b[0m\u001b[0mgenerated_images\u001b[0m\u001b[0;34m)\u001b[0m\u001b[0;34m\u001b[0m\u001b[0m\n\u001b[1;32m      5\u001b[0m   \u001b[0;31m#dis_loss = tfgan.losses.wargs.wasserstein_discriminator_loss(D_real_logit, D_fake_logit)\u001b[0m\u001b[0;34m\u001b[0m\u001b[0;34m\u001b[0m\u001b[0m\n",
            "\u001b[0;32m/usr/local/lib/python3.6/dist-packages/tensorflow/python/layers/base.py\u001b[0m in \u001b[0;36m__call__\u001b[0;34m(self, inputs, *args, **kwargs)\u001b[0m\n\u001b[1;32m    651\u001b[0m \u001b[0;34m\u001b[0m\u001b[0m\n\u001b[1;32m    652\u001b[0m         \u001b[0;32mif\u001b[0m \u001b[0;32mnot\u001b[0m \u001b[0min_deferred_mode\u001b[0m\u001b[0;34m:\u001b[0m\u001b[0;34m\u001b[0m\u001b[0m\n\u001b[0;32m--> 653\u001b[0;31m           \u001b[0moutputs\u001b[0m \u001b[0;34m=\u001b[0m \u001b[0mself\u001b[0m\u001b[0;34m.\u001b[0m\u001b[0mcall\u001b[0m\u001b[0;34m(\u001b[0m\u001b[0minputs\u001b[0m\u001b[0;34m,\u001b[0m \u001b[0;34m*\u001b[0m\u001b[0margs\u001b[0m\u001b[0;34m,\u001b[0m \u001b[0;34m**\u001b[0m\u001b[0mkwargs\u001b[0m\u001b[0;34m)\u001b[0m\u001b[0;34m\u001b[0m\u001b[0m\n\u001b[0m\u001b[1;32m    654\u001b[0m           \u001b[0;32mif\u001b[0m \u001b[0moutputs\u001b[0m \u001b[0;32mis\u001b[0m \u001b[0;32mNone\u001b[0m\u001b[0;34m:\u001b[0m\u001b[0;34m\u001b[0m\u001b[0m\n\u001b[1;32m    655\u001b[0m             raise ValueError('A layer\\'s `call` method should return a Tensor '\n",
            "\u001b[0;32m<ipython-input-16-ee34644d5ee6>\u001b[0m in \u001b[0;36mcall\u001b[0;34m(self, inputs, training)\u001b[0m\n\u001b[1;32m     35\u001b[0m     \u001b[0;31m#x = self.pool1(x)\u001b[0m\u001b[0;34m\u001b[0m\u001b[0;34m\u001b[0m\u001b[0m\n\u001b[1;32m     36\u001b[0m \u001b[0;34m\u001b[0m\u001b[0m\n\u001b[0;32m---> 37\u001b[0;31m     \u001b[0mx\u001b[0m \u001b[0;34m=\u001b[0m \u001b[0mself\u001b[0m\u001b[0;34m.\u001b[0m\u001b[0mconv2\u001b[0m\u001b[0;34m(\u001b[0m\u001b[0mx\u001b[0m\u001b[0;34m)\u001b[0m\u001b[0;34m\u001b[0m\u001b[0m\n\u001b[0m\u001b[1;32m     38\u001b[0m     \u001b[0;31m#if training:\u001b[0m\u001b[0;34m\u001b[0m\u001b[0;34m\u001b[0m\u001b[0m\n\u001b[1;32m     39\u001b[0m     \u001b[0;31m#  x = self.conv2_bn(x, training=training)\u001b[0m\u001b[0;34m\u001b[0m\u001b[0;34m\u001b[0m\u001b[0m\n",
            "\u001b[0;32m/usr/local/lib/python3.6/dist-packages/tensorflow/python/layers/base.py\u001b[0m in \u001b[0;36m__call__\u001b[0;34m(self, inputs, *args, **kwargs)\u001b[0m\n\u001b[1;32m    651\u001b[0m \u001b[0;34m\u001b[0m\u001b[0m\n\u001b[1;32m    652\u001b[0m         \u001b[0;32mif\u001b[0m \u001b[0;32mnot\u001b[0m \u001b[0min_deferred_mode\u001b[0m\u001b[0;34m:\u001b[0m\u001b[0;34m\u001b[0m\u001b[0m\n\u001b[0;32m--> 653\u001b[0;31m           \u001b[0moutputs\u001b[0m \u001b[0;34m=\u001b[0m \u001b[0mself\u001b[0m\u001b[0;34m.\u001b[0m\u001b[0mcall\u001b[0m\u001b[0;34m(\u001b[0m\u001b[0minputs\u001b[0m\u001b[0;34m,\u001b[0m \u001b[0;34m*\u001b[0m\u001b[0margs\u001b[0m\u001b[0;34m,\u001b[0m \u001b[0;34m**\u001b[0m\u001b[0mkwargs\u001b[0m\u001b[0;34m)\u001b[0m\u001b[0;34m\u001b[0m\u001b[0m\n\u001b[0m\u001b[1;32m    654\u001b[0m           \u001b[0;32mif\u001b[0m \u001b[0moutputs\u001b[0m \u001b[0;32mis\u001b[0m \u001b[0;32mNone\u001b[0m\u001b[0;34m:\u001b[0m\u001b[0;34m\u001b[0m\u001b[0m\n\u001b[1;32m    655\u001b[0m             raise ValueError('A layer\\'s `call` method should return a Tensor '\n",
            "\u001b[0;32m/usr/local/lib/python3.6/dist-packages/tensorflow/python/layers/convolutional.py\u001b[0m in \u001b[0;36mcall\u001b[0;34m(self, inputs)\u001b[0m\n\u001b[1;32m    165\u001b[0m \u001b[0;34m\u001b[0m\u001b[0m\n\u001b[1;32m    166\u001b[0m   \u001b[0;32mdef\u001b[0m \u001b[0mcall\u001b[0m\u001b[0;34m(\u001b[0m\u001b[0mself\u001b[0m\u001b[0;34m,\u001b[0m \u001b[0minputs\u001b[0m\u001b[0;34m)\u001b[0m\u001b[0;34m:\u001b[0m\u001b[0;34m\u001b[0m\u001b[0m\n\u001b[0;32m--> 167\u001b[0;31m     \u001b[0moutputs\u001b[0m \u001b[0;34m=\u001b[0m \u001b[0mself\u001b[0m\u001b[0;34m.\u001b[0m\u001b[0m_convolution_op\u001b[0m\u001b[0;34m(\u001b[0m\u001b[0minputs\u001b[0m\u001b[0;34m,\u001b[0m \u001b[0mself\u001b[0m\u001b[0;34m.\u001b[0m\u001b[0mkernel\u001b[0m\u001b[0;34m)\u001b[0m\u001b[0;34m\u001b[0m\u001b[0m\n\u001b[0m\u001b[1;32m    168\u001b[0m \u001b[0;34m\u001b[0m\u001b[0m\n\u001b[1;32m    169\u001b[0m     \u001b[0;32mif\u001b[0m \u001b[0mself\u001b[0m\u001b[0;34m.\u001b[0m\u001b[0muse_bias\u001b[0m\u001b[0;34m:\u001b[0m\u001b[0;34m\u001b[0m\u001b[0m\n",
            "\u001b[0;32m/usr/local/lib/python3.6/dist-packages/tensorflow/python/ops/nn_ops.py\u001b[0m in \u001b[0;36m__call__\u001b[0;34m(self, inp, filter)\u001b[0m\n\u001b[1;32m    846\u001b[0m \u001b[0;34m\u001b[0m\u001b[0m\n\u001b[1;32m    847\u001b[0m   \u001b[0;32mdef\u001b[0m \u001b[0m__call__\u001b[0m\u001b[0;34m(\u001b[0m\u001b[0mself\u001b[0m\u001b[0;34m,\u001b[0m \u001b[0minp\u001b[0m\u001b[0;34m,\u001b[0m \u001b[0mfilter\u001b[0m\u001b[0;34m)\u001b[0m\u001b[0;34m:\u001b[0m  \u001b[0;31m# pylint: disable=redefined-builtin\u001b[0m\u001b[0;34m\u001b[0m\u001b[0m\n\u001b[0;32m--> 848\u001b[0;31m     \u001b[0;32mreturn\u001b[0m \u001b[0mself\u001b[0m\u001b[0;34m.\u001b[0m\u001b[0mconv_op\u001b[0m\u001b[0;34m(\u001b[0m\u001b[0minp\u001b[0m\u001b[0;34m,\u001b[0m \u001b[0mfilter\u001b[0m\u001b[0;34m)\u001b[0m\u001b[0;34m\u001b[0m\u001b[0m\n\u001b[0m\u001b[1;32m    849\u001b[0m \u001b[0;34m\u001b[0m\u001b[0m\n\u001b[1;32m    850\u001b[0m \u001b[0;34m\u001b[0m\u001b[0m\n",
            "\u001b[0;32m/usr/local/lib/python3.6/dist-packages/tensorflow/python/ops/nn_ops.py\u001b[0m in \u001b[0;36m__call__\u001b[0;34m(self, inp, filter)\u001b[0m\n\u001b[1;32m    509\u001b[0m \u001b[0;34m\u001b[0m\u001b[0m\n\u001b[1;32m    510\u001b[0m   \u001b[0;32mdef\u001b[0m \u001b[0m__call__\u001b[0m\u001b[0;34m(\u001b[0m\u001b[0mself\u001b[0m\u001b[0;34m,\u001b[0m \u001b[0minp\u001b[0m\u001b[0;34m,\u001b[0m \u001b[0mfilter\u001b[0m\u001b[0;34m)\u001b[0m\u001b[0;34m:\u001b[0m  \u001b[0;31m# pylint: disable=redefined-builtin\u001b[0m\u001b[0;34m\u001b[0m\u001b[0m\n\u001b[0;32m--> 511\u001b[0;31m     \u001b[0;32mreturn\u001b[0m \u001b[0mself\u001b[0m\u001b[0;34m.\u001b[0m\u001b[0mcall\u001b[0m\u001b[0;34m(\u001b[0m\u001b[0minp\u001b[0m\u001b[0;34m,\u001b[0m \u001b[0mfilter\u001b[0m\u001b[0;34m)\u001b[0m\u001b[0;34m\u001b[0m\u001b[0m\n\u001b[0m\u001b[1;32m    512\u001b[0m \u001b[0;34m\u001b[0m\u001b[0m\n\u001b[1;32m    513\u001b[0m \u001b[0;34m\u001b[0m\u001b[0m\n",
            "\u001b[0;32m/usr/local/lib/python3.6/dist-packages/tensorflow/python/ops/nn_ops.py\u001b[0m in \u001b[0;36m__call__\u001b[0;34m(self, inp, filter)\u001b[0m\n\u001b[1;32m    188\u001b[0m         \u001b[0mpadding\u001b[0m\u001b[0;34m=\u001b[0m\u001b[0mself\u001b[0m\u001b[0;34m.\u001b[0m\u001b[0mpadding\u001b[0m\u001b[0;34m,\u001b[0m\u001b[0;34m\u001b[0m\u001b[0m\n\u001b[1;32m    189\u001b[0m         \u001b[0mdata_format\u001b[0m\u001b[0;34m=\u001b[0m\u001b[0mself\u001b[0m\u001b[0;34m.\u001b[0m\u001b[0mdata_format\u001b[0m\u001b[0;34m,\u001b[0m\u001b[0;34m\u001b[0m\u001b[0m\n\u001b[0;32m--> 190\u001b[0;31m         name=self.name)\n\u001b[0m\u001b[1;32m    191\u001b[0m \u001b[0;34m\u001b[0m\u001b[0m\n\u001b[1;32m    192\u001b[0m \u001b[0;34m\u001b[0m\u001b[0m\n",
            "\u001b[0;32m/usr/local/lib/python3.6/dist-packages/tensorflow/python/ops/gen_nn_ops.py\u001b[0m in \u001b[0;36mconv2d\u001b[0;34m(input, filter, strides, padding, use_cudnn_on_gpu, data_format, dilations, name)\u001b[0m\n\u001b[1;32m    653\u001b[0m               data_format, \"dilations\", dilations)\n\u001b[1;32m    654\u001b[0m     _result = _execute.execute(b\"Conv2D\", 1, inputs=_inputs_flat,\n\u001b[0;32m--> 655\u001b[0;31m                                attrs=_attrs, ctx=_ctx, name=name)\n\u001b[0m\u001b[1;32m    656\u001b[0m   _execute.record_gradient(\n\u001b[1;32m    657\u001b[0m       \"Conv2D\", _inputs_flat, _attrs, _result, name)\n",
            "\u001b[0;32m/usr/local/lib/python3.6/dist-packages/tensorflow/python/eager/execute.py\u001b[0m in \u001b[0;36mquick_execute\u001b[0;34m(op_name, num_outputs, inputs, attrs, ctx, name)\u001b[0m\n\u001b[1;32m     58\u001b[0m     tensors = pywrap_tensorflow.TFE_Py_Execute(ctx._handle, device_name,\n\u001b[1;32m     59\u001b[0m                                                \u001b[0mop_name\u001b[0m\u001b[0;34m,\u001b[0m \u001b[0minputs\u001b[0m\u001b[0;34m,\u001b[0m \u001b[0mattrs\u001b[0m\u001b[0;34m,\u001b[0m\u001b[0;34m\u001b[0m\u001b[0m\n\u001b[0;32m---> 60\u001b[0;31m                                                num_outputs)\n\u001b[0m\u001b[1;32m     61\u001b[0m   \u001b[0;32mexcept\u001b[0m \u001b[0mcore\u001b[0m\u001b[0;34m.\u001b[0m\u001b[0m_NotOkStatusException\u001b[0m \u001b[0;32mas\u001b[0m \u001b[0me\u001b[0m\u001b[0;34m:\u001b[0m\u001b[0;34m\u001b[0m\u001b[0m\n\u001b[1;32m     62\u001b[0m     \u001b[0;32mif\u001b[0m \u001b[0mname\u001b[0m \u001b[0;32mis\u001b[0m \u001b[0;32mnot\u001b[0m \u001b[0;32mNone\u001b[0m\u001b[0;34m:\u001b[0m\u001b[0;34m\u001b[0m\u001b[0m\n",
            "\u001b[0;31mKeyboardInterrupt\u001b[0m: "
          ]
        },
        {
          "output_type": "display_data",
          "data": {
            "text/plain": [
              "<matplotlib.figure.Figure at 0x7fdd6bfd1128>"
            ]
          },
          "metadata": {
            "tags": []
          }
        }
      ]
    },
    {
      "metadata": {
        "id": "T7xwbHTspw80",
        "colab_type": "code",
        "colab": {
          "autoexec": {
            "startup": false,
            "wait_interval": 0
          },
          "output_extras": [
            {
              "item_id": 1
            }
          ],
          "base_uri": "https://localhost:8080/",
          "height": 34
        },
        "outputId": "201cc702-84fd-43a6-87c5-f3ea86d98d19",
        "executionInfo": {
          "status": "ok",
          "timestamp": 1515279366250,
          "user_tz": -60,
          "elapsed": 730,
          "user": {
            "displayName": "Joppe Geluykens",
            "photoUrl": "//lh3.googleusercontent.com/-u5lK1xWCYts/AAAAAAAAAAI/AAAAAAAABBI/Ep77HQ5tBIc/s50-c-k-no/photo.jpg",
            "userId": "107236456363263425133"
          }
        }
      },
      "source": [
        "import os\n",
        "checkpoint_dir = '/tmp/tensorflow/mnist/checkpoints/'\n",
        "if not tf.gfile.Exists(checkpoint_dir):\n",
        "    tf.gfile.MakeDirs(checkpoint_dir)\n",
        "\n",
        "checkpoint_prefix = os.path.join(checkpoint_dir, 'ckpt')\n",
        "all_variables = (\n",
        "        G.trainable_variables\n",
        "        + D.trainable_variables)\n",
        "        #+ generator_optimizer.variables()\n",
        "        #+ discriminator_optimizer.variables()\n",
        "        #+ [tf.train.get_or_create_global_step()])\n",
        "tfe.Saver(all_variables).save(\n",
        "    checkpoint_prefix, global_step=tf.train.get_or_create_global_step())"
      ],
      "cell_type": "code",
      "execution_count": 34,
      "outputs": [
        {
          "output_type": "execute_result",
          "data": {
            "text/plain": [
              "'/tmp/tensorflow/mnist/checkpoints/ckpt-1571'"
            ]
          },
          "metadata": {
            "tags": []
          },
          "execution_count": 34
        }
      ]
    },
    {
      "metadata": {
        "id": "d2GxOAAztfVn",
        "colab_type": "code",
        "colab": {
          "autoexec": {
            "startup": false,
            "wait_interval": 0
          }
        }
      },
      "source": [
        "from google.colab import auth\n",
        "auth.authenticate_user()"
      ],
      "cell_type": "code",
      "execution_count": 0,
      "outputs": []
    },
    {
      "metadata": {
        "id": "rUsZhzDJtpew",
        "colab_type": "code",
        "colab": {
          "autoexec": {
            "startup": false,
            "wait_interval": 0
          }
        }
      },
      "source": [
        "from googleapiclient.discovery import build\n",
        "drive_service = build('drive', 'v3')"
      ],
      "cell_type": "code",
      "execution_count": 0,
      "outputs": []
    },
    {
      "metadata": {
        "id": "kyvacMv0sH1k",
        "colab_type": "code",
        "colab": {
          "autoexec": {
            "startup": false,
            "wait_interval": 0
          },
          "output_extras": [
            {
              "item_id": 1
            }
          ],
          "base_uri": "https://localhost:8080/",
          "height": 34
        },
        "outputId": "610df4f2-1212-420d-bb35-79f597d3e4da",
        "executionInfo": {
          "status": "ok",
          "timestamp": 1515279821411,
          "user_tz": -60,
          "elapsed": 33101,
          "user": {
            "displayName": "Joppe Geluykens",
            "photoUrl": "//lh3.googleusercontent.com/-u5lK1xWCYts/AAAAAAAAAAI/AAAAAAAABBI/Ep77HQ5tBIc/s50-c-k-no/photo.jpg",
            "userId": "107236456363263425133"
          }
        }
      },
      "source": [
        "# Upload the file to Drive. See:\n",
        "#\n",
        "# https://developers.google.com/drive/v3/reference/files/create\n",
        "# https://developers.google.com/drive/v3/web/manage-uploads\n",
        "from googleapiclient.http import MediaFileUpload\n",
        "\n",
        "file_metadata = {\n",
        "  'name': 'Checkpoint MNIST DCGAN',\n",
        "#  'mimeType': 'text/plain'\n",
        "}\n",
        "media = MediaFileUpload('/tmp/tensorflow/mnist/checkpoints/ckpt-1571.data-00000-of-00001', \n",
        "#                        mimetype='text/plain',\n",
        "                        resumable=True)\n",
        "created = drive_service.files().create(body=file_metadata,\n",
        "                                       media_body=media,\n",
        "                                       fields='id').execute()\n",
        "print('File ID: {}'.format(created.get('id')))"
      ],
      "cell_type": "code",
      "execution_count": 47,
      "outputs": [
        {
          "output_type": "stream",
          "text": [
            "File ID: 10IBPabOadHjgDEST_OQY93tO7nK02l-V\n"
          ],
          "name": "stdout"
        }
      ]
    },
    {
      "metadata": {
        "id": "qjatyXN5uCOf",
        "colab_type": "code",
        "colab": {
          "autoexec": {
            "startup": false,
            "wait_interval": 0
          },
          "output_extras": [
            {
              "item_id": 1
            }
          ],
          "base_uri": "https://localhost:8080/",
          "height": 34
        },
        "outputId": "8f716688-eeaf-4398-a1bf-c20948d5df07",
        "executionInfo": {
          "status": "ok",
          "timestamp": 1515279923296,
          "user_tz": -60,
          "elapsed": 1107,
          "user": {
            "displayName": "Joppe Geluykens",
            "photoUrl": "//lh3.googleusercontent.com/-u5lK1xWCYts/AAAAAAAAAAI/AAAAAAAABBI/Ep77HQ5tBIc/s50-c-k-no/photo.jpg",
            "userId": "107236456363263425133"
          }
        }
      },
      "source": [
        "file_metadata = {\n",
        "  'name': 'ckpt-1571.index',\n",
        "#  'mimeType': 'text/plain'\n",
        "}\n",
        "media = MediaFileUpload('/tmp/tensorflow/mnist/checkpoints/ckpt-1571.index', \n",
        "#                        mimetype='text/plain',\n",
        "                        resumable=True)\n",
        "created = drive_service.files().create(body=file_metadata,\n",
        "                                       media_body=media,\n",
        "                                       fields='id').execute()\n",
        "print('File ID: {}'.format(created.get('id')))"
      ],
      "cell_type": "code",
      "execution_count": 48,
      "outputs": [
        {
          "output_type": "stream",
          "text": [
            "File ID: 116Zq9QJYXu82PwWvUZieKSD06CmO_0XR\n"
          ],
          "name": "stdout"
        }
      ]
    },
    {
      "metadata": {
        "id": "T8FPPEOguL_c",
        "colab_type": "code",
        "colab": {
          "autoexec": {
            "startup": false,
            "wait_interval": 0
          },
          "output_extras": [
            {
              "item_id": 1
            }
          ],
          "base_uri": "https://localhost:8080/",
          "height": 34
        },
        "outputId": "88905825-4a31-4064-8589-e2f20f5a260b",
        "executionInfo": {
          "status": "ok",
          "timestamp": 1515279941896,
          "user_tz": -60,
          "elapsed": 1268,
          "user": {
            "displayName": "Joppe Geluykens",
            "photoUrl": "//lh3.googleusercontent.com/-u5lK1xWCYts/AAAAAAAAAAI/AAAAAAAABBI/Ep77HQ5tBIc/s50-c-k-no/photo.jpg",
            "userId": "107236456363263425133"
          }
        }
      },
      "source": [
        "file_metadata = {\n",
        "  'name': 'checkpoint',\n",
        "#  'mimeType': 'text/plain'\n",
        "}\n",
        "media = MediaFileUpload('/tmp/tensorflow/mnist/checkpoints/checkpoint', \n",
        "#                        mimetype='text/plain',\n",
        "                        resumable=True)\n",
        "created = drive_service.files().create(body=file_metadata,\n",
        "                                       media_body=media,\n",
        "                                       fields='id').execute()\n",
        "print('File ID: {}'.format(created.get('id')))"
      ],
      "cell_type": "code",
      "execution_count": 49,
      "outputs": [
        {
          "output_type": "stream",
          "text": [
            "File ID: 1hCVchCeEwoIcQ5kkvPLiUfnZ9J0d5Xv1\n"
          ],
          "name": "stdout"
        }
      ]
    },
    {
      "metadata": {
        "id": "aExpUR2rC9n3",
        "colab_type": "code",
        "colab": {
          "autoexec": {
            "startup": false,
            "wait_interval": 0
          },
          "output_extras": [
            {
              "item_id": 1
            }
          ],
          "base_uri": "https://localhost:8080/",
          "height": 280
        },
        "outputId": "52aff9f0-0b5f-45a0-9316-3553896604fe",
        "executionInfo": {
          "status": "ok",
          "timestamp": 1515279386372,
          "user_tz": -60,
          "elapsed": 525,
          "user": {
            "displayName": "Joppe Geluykens",
            "photoUrl": "//lh3.googleusercontent.com/-u5lK1xWCYts/AAAAAAAAAAI/AAAAAAAABBI/Ep77HQ5tBIc/s50-c-k-no/photo.jpg",
            "userId": "107236456363263425133"
          }
        }
      },
      "source": [
        "# Plot the eval metrics over time.\n",
        "plt.title('Training loss per step')\n",
        "plt.plot(*zip(*loss_values))\n",
        "plt.show()"
      ],
      "cell_type": "code",
      "execution_count": 35,
      "outputs": [
        {
          "output_type": "display_data",
          "data": {
            "image/png": "[encoded data removed]",
            "text/plain": [
              "<matplotlib.figure.Figure at 0x7fdddaa0cbe0>"
            ]
          },
          "metadata": {
            "tags": []
          }
        }
      ]
    },
    {
      "metadata": {
        "id": "AG3GtNn3muIW",
        "colab_type": "text"
      },
      "source": [
        "## Generative adversarial network"
      ],
      "cell_type": "markdown"
    },
    {
      "metadata": {
        "id": "XmsH9kFtmuIc",
        "colab_type": "text"
      },
      "source": [
        "### Ready, set, GO!"
      ],
      "cell_type": "markdown"
    },
    {
      "metadata": {
        "id": "3RUHLFd0IXcX",
        "colab_type": "text"
      },
      "source": [
        "Some helpers for drawing samples from data and noise prior, respectively."
      ],
      "cell_type": "markdown"
    },
    {
      "metadata": {
        "id": "qpmyerufFirP",
        "colab_type": "code",
        "colab": {
          "autoexec": {
            "startup": false,
            "wait_interval": 0
          }
        }
      },
      "source": [
        "def sample_data(batch_size=200):\n",
        "  x = np.random.normal(mean, variance, batch_size)\n",
        "  x.sort()\n",
        "  x = tf.constant(np.reshape(x, (batch_size, 1)))\n",
        "  return x\n",
        "\n",
        "def sample_noise_prior(batch_size=200):\n",
        "  z = np.linspace(-5.0, 5.0, M) + np.random.random(M) * 0.01\n",
        "  z = tf.constant(np.reshape(z, (M, 1)))\n",
        "  return z"
      ],
      "cell_type": "code",
      "execution_count": 0,
      "outputs": []
    },
    {
      "metadata": {
        "id": "iNM-CJTVIWS2",
        "colab_type": "text"
      },
      "source": [
        "Optimize generator and discriminator networks."
      ],
      "cell_type": "markdown"
    },
    {
      "metadata": {
        "id": "g79YI0_lmuId",
        "colab_type": "code",
        "colab": {
          "autoexec": {
            "startup": false,
            "wait_interval": 0
          },
          "output_extras": [
            {},
            {}
          ],
          "base_uri": "https://localhost:8080/",
          "height": 282
        },
        "outputId": "6074919f-4be2-4f1c-8a6a-bc177cce3e27",
        "executionInfo": {
          "status": "ok",
          "timestamp": 1514622736671,
          "user_tz": -60,
          "elapsed": 5787,
          "user": {
            "displayName": "Joppe Geluykens",
            "photoUrl": "//lh3.googleusercontent.com/-u5lK1xWCYts/AAAAAAAAAAI/AAAAAAAABBI/Ep77HQ5tBIc/s50-c-k-no/photo.jpg",
            "userId": "107236456363263425133"
          }
        }
      },
      "source": [
        "# Algorithm 1 of Goodfellow et al. (2014)\n",
        "\n",
        "# Number of discriminator updates per epoch\n",
        "k = 5\n",
        "# Setup log of loss throughout training\n",
        "histd, histg = np.zeros(TRAIN_ITERS), np.zeros(TRAIN_ITERS)\n",
        "\n",
        "for i in range(TRAIN_ITERS):\n",
        "  # Train discriminator.\n",
        "  for j in range(k):\n",
        "    ## 1) Sample data,\n",
        "    x = sample_data(batch_size=M)\n",
        "    \n",
        "    ## 2) Sample noise prior,\n",
        "    z = sample_noise_prior(batch_size=M)\n",
        "\n",
        "    ## 3) Compute all partial derivatives of the loss function,\n",
        "    histd[i], grads_and_vars = tfe.implicit_value_and_gradients(neg_value_function)(D, G, x, z)\n",
        "    \n",
        "    ## 4) Optimize discriminator, and not generator (!).\n",
        "    discriminator_grads_and_vars = [gv for gv in grads_and_vars if gv[1].name.startswith('D/')]\n",
        "    discriminator_optimizer.apply_gradients(discriminator_grads_and_vars, global_step=batch)\n",
        "\n",
        "  # Train generator.\n",
        "  ## 1) Sample noise prior,\n",
        "  z = sample_noise_prior(batch_size=M)\n",
        "  \n",
        "  ## 2) Compute all partial derivatives of the loss function\n",
        "  histg[i], grads_and_vars = tfe.implicit_value_and_gradients(value_function)(D, G, x, z)\n",
        "  \n",
        "  ## 3) Optimize generator, and not discriminator (!)\n",
        "  generator_grads_and_vars = [gv for gv in grads_and_vars if gv[1].name.startswith('G/')]\n",
        "  opt_g.apply_gradients(generator_grads_and_vars, global_step=batch)\n",
        "\n",
        "  # Illustrate current situation.\n",
        "  if i % 100 == 0:\n",
        "    print(float(i) / float(TRAIN_ITERS))\n",
        "    \n",
        "    ## Update plot\n",
        "    plot_fig(D, G)\n",
        "    display.display(plt.gcf())\n",
        "    display.clear_output(wait=True)\n",
        "\n",
        "# Make sure only one plot remains in the output of this cell.\n",
        "%matplotlib inline"
      ],
      "cell_type": "code",
      "execution_count": 0,
      "outputs": [
        {
          "output_type": "stream",
          "text": [
            "0.995\n"
          ],
          "name": "stdout"
        },
        {
          "output_type": "display_data",
          "data": {
            "image/png": "[encoded data removed]",
            "text/plain": [
              "<matplotlib.figure.Figure at 0x7f158f088cc0>"
            ]
          },
          "metadata": {
            "tags": []
          }
        }
      ]
    },
    {
      "metadata": {
        "id": "XxdwDtbqb1zJ",
        "colab_type": "text"
      },
      "source": [
        "As we can see in the plot above, the generator does a (reasonably) good job at outputting samples that resemble the data distribution. We can see that the discriminator outputs a value between 40% and 50%, as we'd expect at this point. The discriminator is unable to distinguish between a real and a generated sample."
      ],
      "cell_type": "markdown"
    },
    {
      "metadata": {
        "id": "8Q3zyxLxmuIf",
        "colab_type": "code",
        "colab": {
          "autoexec": {
            "startup": false,
            "wait_interval": 0
          },
          "output_extras": [
            {},
            {}
          ],
          "base_uri": "https://localhost:8080/",
          "height": 297
        },
        "outputId": "b985506d-9390-408a-ad0d-f23fd1f86904",
        "executionInfo": {
          "status": "ok",
          "timestamp": 1514620785320,
          "user_tz": -60,
          "elapsed": 717,
          "user": {
            "displayName": "Joppe Geluykens",
            "photoUrl": "//lh3.googleusercontent.com/-u5lK1xWCYts/AAAAAAAAAAI/AAAAAAAABBI/Ep77HQ5tBIc/s50-c-k-no/photo.jpg",
            "userId": "107236456363263425133"
          }
        }
      },
      "source": [
        "plt.plot(range(TRAIN_ITERS), histd, label='obj_d')\n",
        "plt.plot(range(TRAIN_ITERS), 1 - histg, label='obj_g')\n",
        "plt.legend()\n",
        "plt.title('History of loss throughout training')"
      ],
      "cell_type": "code",
      "execution_count": 0,
      "outputs": [
        {
          "output_type": "execute_result",
          "data": {
            "text/plain": [
              "Text(0.5,1,'History of loss throughout training')"
            ]
          },
          "metadata": {
            "tags": []
          },
          "execution_count": 21
        },
        {
          "output_type": "display_data",
          "data": {
            "image/png": "[encoded data removed]",
            "text/plain": [
              "<matplotlib.figure.Figure at 0x7f159530ccc0>"
            ]
          },
          "metadata": {
            "tags": []
          }
        }
      ]
    }
  ]
}