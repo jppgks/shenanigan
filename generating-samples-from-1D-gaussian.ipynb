{
  "nbformat": 4,
  "nbformat_minor": 0,
  "metadata": {
    "colab": {
      "name": "generating-samples-from-1D-gaussian.ipynb",
      "version": "0.3.2",
      "views": {},
      "default_view": {},
      "provenance": [],
      "collapsed_sections": [],
      "toc_visible": true
    },
    "kernelspec": {
      "name": "python3",
      "display_name": "Python 3"
    }
  },
  "cells": [
    {
      "metadata": {
        "id": "vNG236FtmuH8",
        "colab_type": "text"
      },
      "source": [
        "# Generating samples from 1-D Gaussian\n",
        "\n",
        "Adapted from https://github.com/ericjang/genadv_tutorial/blob/master/genadv1.ipynb."
      ],
      "cell_type": "markdown"
    },
    {
      "metadata": {
        "id": "7LtUb_gHmuH9",
        "colab_type": "text"
      },
      "source": [
        "## Development environment\n",
        "Let's start with setting up our development environment by loading the necessary libraries."
      ],
      "cell_type": "markdown"
    },
    {
      "metadata": {
        "id": "80Kpnm1TviK9",
        "colab_type": "text"
      },
      "source": [
        "Instead of standard TensorFlow, we will use the recently released \"eager execution\". This provides define-by-run access to most of the standard TensorFlow API. Details about eager execution can be found in this Google Research blog post [link text](https://research.googleblog.com/2017/10/eager-execution-imperative-define-by.html).\n",
        "\n",
        "At the time of writing, the latest stable release of TensorFlow is 1.4.1 which does not include the eager functionality. Therefore, we install the nightly build before continuing."
      ],
      "cell_type": "markdown"
    },
    {
      "metadata": {
        "id": "B0hMh-opoLAe",
        "colab_type": "code",
        "colab": {
          "autoexec": {
            "startup": false,
            "wait_interval": 0
          }
        }
      },
      "source": [
        "! pip install -Uq tf-nightly"
      ],
      "cell_type": "code",
      "execution_count": 0,
      "outputs": []
    },
    {
      "metadata": {
        "id": "9QgSj7jVxaM4",
        "colab_type": "text"
      },
      "source": [
        "We first import TensorFlow as usual and then import `tensorflow.contrib.eager` and enable eager execution.\n",
        "\n",
        "The other dependencies for this notebook are NumPy and some packages for plotting."
      ],
      "cell_type": "markdown"
    },
    {
      "metadata": {
        "id": "jnWlYZCqmuH-",
        "colab_type": "code",
        "colab": {
          "autoexec": {
            "startup": false,
            "wait_interval": 0
          },
          "output_extras": [
            {
              "item_id": 1
            }
          ],
          "base_uri": "https://localhost:8080/",
          "height": 34
        },
        "outputId": "4a642709-0c00-40b2-f9ae-095542e95689",
        "executionInfo": {
          "status": "ok",
          "timestamp": 1514570009500,
          "user_tz": -60,
          "elapsed": 1922,
          "user": {
            "displayName": "Joppe Geluykens",
            "photoUrl": "//lh3.googleusercontent.com/-u5lK1xWCYts/AAAAAAAAAAI/AAAAAAAABBI/Ep77HQ5tBIc/s50-c-k-no/photo.jpg",
            "userId": "107236456363263425133"
          }
        }
      },
      "source": [
        "# Import TensorFlow\n",
        "import tensorflow as tf\n",
        "print(\"Running TensorFlow version \" + tf.__version__)\n",
        "# Define by run 🎉 (https://research.googleblog.com/2017/10/eager-execution-imperative-define-by.html)\n",
        "import tensorflow.contrib.eager as tfe\n",
        "tfe.enable_eager_execution()\n",
        "\n",
        "import numpy as np\n",
        "import matplotlib.pyplot as plt\n",
        "import seaborn as sns # for pretty plots\n",
        "from scipy.stats import norm\n",
        "from IPython import display\n",
        "%matplotlib inline"
      ],
      "cell_type": "code",
      "execution_count": 2,
      "outputs": [
        {
          "output_type": "stream",
          "text": [
            "Running TensorFlow version 1.5.0-dev20171227\n"
          ],
          "name": "stdout"
        }
      ]
    },
    {
      "metadata": {
        "id": "0bCdD0dqmuIB",
        "colab_type": "text"
      },
      "source": [
        "## Target distribution $p_{data}$\n",
        "This is the distribution that our generator should model. We define this $p_{data}$ as a Gaussian with mean $\\mu = -1$ and variance $\\sigma^2 = 1$."
      ],
      "cell_type": "markdown"
    },
    {
      "metadata": {
        "id": "2jydALOUFqXo",
        "colab_type": "code",
        "colab": {
          "autoexec": {
            "startup": false,
            "wait_interval": 0
          }
        }
      },
      "source": [
        "mean, variance = -1, 1"
      ],
      "cell_type": "code",
      "execution_count": 0,
      "outputs": []
    },
    {
      "metadata": {
        "id": "EBCOWmgbmuIB",
        "colab_type": "code",
        "colab": {
          "autoexec": {
            "startup": false,
            "wait_interval": 0
          },
          "output_extras": [
            {
              "item_id": 1
            },
            {
              "item_id": 2
            }
          ],
          "base_uri": "https://localhost:8080/",
          "height": 282
        },
        "outputId": "67581e58-6cfd-4fd5-b47a-e3840075d110",
        "executionInfo": {
          "status": "ok",
          "timestamp": 1514570011187,
          "user_tz": -60,
          "elapsed": 764,
          "user": {
            "displayName": "Joppe Geluykens",
            "photoUrl": "//lh3.googleusercontent.com/-u5lK1xWCYts/AAAAAAAAAAI/AAAAAAAABBI/Ep77HQ5tBIc/s50-c-k-no/photo.jpg",
            "userId": "107236456363263425133"
          }
        }
      },
      "source": [
        "xs = np.linspace(-5, 5, 1000)\n",
        "plt.plot(xs, norm.pdf(xs, loc=mean, scale=variance))"
      ],
      "cell_type": "code",
      "execution_count": 4,
      "outputs": [
        {
          "output_type": "execute_result",
          "data": {
            "text/plain": [
              "[<matplotlib.lines.Line2D at 0x7f06ad709320>]"
            ]
          },
          "metadata": {
            "tags": []
          },
          "execution_count": 4
        },
        {
          "output_type": "display_data",
          "data": {
            "image/png": "[encoded data removed]",
            "text/plain": [
              "<matplotlib.figure.Figure at 0x7f06a5281b38>"
            ]
          },
          "metadata": {
            "tags": []
          }
        }
      ]
    },
    {
      "metadata": {
        "id": "5iIGadkqmuIE",
        "colab_type": "text"
      },
      "source": [
        "## Model used for generator and discriminator\n",
        "We'll use an MLP with `tanh` activations and one hidden layer of 30 neurons, inspired by https://cs.stanford.edu/people/karpathy/gan/. Our generator and discriminator will both be an instance of the same MLP class."
      ],
      "cell_type": "markdown"
    },
    {
      "metadata": {
        "id": "FDBcCZQdmuIE",
        "colab_type": "code",
        "colab": {
          "autoexec": {
            "startup": false,
            "wait_interval": 0
          }
        }
      },
      "source": [
        "class MLP(tfe.Network):\n",
        "  def __init__(self):\n",
        "    super(MLP, self).__init__()\n",
        "    self.layer1 = self.track_layer(tf.layers.Dense(units=30, activation=tf.nn.tanh))\n",
        "    self.layer2 = self.track_layer(tf.layers.Dense(units=1, activation=tf.nn.tanh))\n",
        "    \n",
        "  def call(self, input):\n",
        "    \"\"\"Actually runs the model.\"\"\"\n",
        "    result = self.layer1(input)\n",
        "    result = self.layer2(result)\n",
        "    return result"
      ],
      "cell_type": "code",
      "execution_count": 0,
      "outputs": []
    },
    {
      "metadata": {
        "id": "tpdnlExCmuIJ",
        "colab_type": "text"
      },
      "source": [
        "It is now an appropriate time to set some hyperparameters."
      ],
      "cell_type": "markdown"
    },
    {
      "metadata": {
        "id": "xIrV5hRqmuIJ",
        "colab_type": "code",
        "colab": {
          "autoexec": {
            "startup": false,
            "wait_interval": 0
          }
        }
      },
      "source": [
        "TRAIN_ITERS = 20000\n",
        "# Minibatch size\n",
        "M = 200"
      ],
      "cell_type": "code",
      "execution_count": 0,
      "outputs": []
    },
    {
      "metadata": {
        "id": "w57PWTxMmuIL",
        "colab_type": "text"
      },
      "source": [
        "## Pre-train decision surface\n",
        "\n",
        "Before defining our adversarial play, we'll fit the discriminator network to the training data in hopes of faster convergence."
      ],
      "cell_type": "markdown"
    },
    {
      "metadata": {
        "id": "slbRwiew01vE",
        "colab_type": "text"
      },
      "source": [
        "We will train the discriminator using a momentum optimizer:"
      ],
      "cell_type": "markdown"
    },
    {
      "metadata": {
        "id": "zjiZ7uaTmuIH",
        "colab_type": "code",
        "colab": {
          "autoexec": {
            "startup": false,
            "wait_interval": 0
          }
        }
      },
      "source": [
        "batch = tfe.Variable(0)\n",
        "learning_rate = tf.train.exponential_decay(\n",
        "  0.001,  # Base learning rate.\n",
        "  batch,  # Current index into the dataset.\n",
        "  TRAIN_ITERS // 4,  # Decay step - this decays 4 times throughout training process.\n",
        "  0.95,  # Decay rate.\n",
        "  staircase=True)\n",
        "discriminator_optimizer=tf.train.MomentumOptimizer(learning_rate, 0.6)"
      ],
      "cell_type": "code",
      "execution_count": 0,
      "outputs": []
    },
    {
      "metadata": {
        "id": "3QIaootamuIL",
        "colab_type": "text"
      },
      "source": [
        "Let's create the discriminator as an instance of our MLP class,"
      ],
      "cell_type": "markdown"
    },
    {
      "metadata": {
        "id": "vit2jQgQmuIM",
        "colab_type": "code",
        "colab": {
          "autoexec": {
            "startup": false,
            "wait_interval": 0
          }
        }
      },
      "source": [
        "with tf.variable_scope(\"D\"):\n",
        "  D = MLP()"
      ],
      "cell_type": "code",
      "execution_count": 0,
      "outputs": []
    },
    {
      "metadata": {
        "id": "uEkGE39umuIN",
        "colab_type": "text"
      },
      "source": [
        "and define a helper function which will illustrate the current output of our networks."
      ],
      "cell_type": "markdown"
    },
    {
      "metadata": {
        "id": "Fs30ro4FmuIO",
        "colab_type": "code",
        "colab": {
          "autoexec": {
            "startup": false,
            "wait_interval": 0
          }
        }
      },
      "source": [
        "def plot_fig(D=None, G=None):\n",
        "  f, ax = plt.subplots(1)\n",
        "\n",
        "  r = 5000 # resolution (number of points)\n",
        "  \n",
        "  # Plot p_data\n",
        "  xs = np.linspace(-5, 5, r)\n",
        "  ax.plot(xs, norm.pdf(xs, loc=mean, scale=variance), label='p_data')\n",
        "  \n",
        "  if D:\n",
        "    # Forward propagate points from x-axis through discriminator\n",
        "    discriminator_output = np.zeros((r,1)) # decision surface\n",
        "    discriminator_output[:] = D(tf.constant(np.reshape(xs, (r,1))))\n",
        "    discriminator_output[:] = tf.maximum(tf.minimum(discriminator_output,.99), 0.01) # clamp as a probability\n",
        "\n",
        "    # Plot discriminator output\n",
        "    ax.plot(xs, discriminator_output, label='decision boundary')\n",
        "  \n",
        "  if G:\n",
        "    # Forward propagate samples from noise prior through generator\n",
        "    zs = np.linspace(-5, 5, r)\n",
        "    gs = np.zeros((r, 1)) # generator function\n",
        "    z = tf.constant(np.reshape(zs, (r, 1)))\n",
        "    generated_samples = G(z)\n",
        "    generated_samples = tf.multiply(5.0, generated_samples) # scale up by 5 to match range\n",
        "    gs[:] = generated_samples\n",
        "\n",
        "    # Plot distribution of inverse-mapped points\n",
        "    histc, edges = np.histogram(gs, bins = 10)\n",
        "    ax.plot(np.linspace(-5, 5, 10), histc / float(r), label='p_g')\n",
        "  \n",
        "  ax.set_ylim(0, 1.1)\n",
        "  plt.legend()"
      ],
      "cell_type": "code",
      "execution_count": 0,
      "outputs": []
    },
    {
      "metadata": {
        "id": "8X2UON_OmuIQ",
        "colab_type": "text"
      },
      "source": [
        "Let's use our helper function to plot the initial discriminator output (clamped as probability; between 0 and 1) which is dependent on the initialization of our network's parameters. Therefore, it probably won't be very meaningful at this point."
      ],
      "cell_type": "markdown"
    },
    {
      "metadata": {
        "id": "u2oi3o14muIQ",
        "colab_type": "code",
        "colab": {
          "autoexec": {
            "startup": false,
            "wait_interval": 0
          },
          "output_extras": [
            {
              "item_id": 1
            },
            {
              "item_id": 2
            }
          ],
          "base_uri": "https://localhost:8080/",
          "height": 297
        },
        "outputId": "a964f884-fcf8-46fd-bf7c-f827570f1e68",
        "executionInfo": {
          "status": "ok",
          "timestamp": 1514570015427,
          "user_tz": -60,
          "elapsed": 641,
          "user": {
            "displayName": "Joppe Geluykens",
            "photoUrl": "//lh3.googleusercontent.com/-u5lK1xWCYts/AAAAAAAAAAI/AAAAAAAABBI/Ep77HQ5tBIc/s50-c-k-no/photo.jpg",
            "userId": "107236456363263425133"
          }
        }
      },
      "source": [
        "plot_fig(D)\n",
        "plt.title('Initial Decision Boundary')"
      ],
      "cell_type": "code",
      "execution_count": 10,
      "outputs": [
        {
          "output_type": "execute_result",
          "data": {
            "text/plain": [
              "Text(0.5,1,'Initial Decision Boundary')"
            ]
          },
          "metadata": {
            "tags": []
          },
          "execution_count": 10
        },
        {
          "output_type": "display_data",
          "data": {
            "image/png": "[encoded data removed]",
            "text/plain": [
              "<matplotlib.figure.Figure at 0x7f06ad6299b0>"
            ]
          },
          "metadata": {
            "tags": []
          }
        }
      ]
    },
    {
      "metadata": {
        "id": "IJZJpB-9_Q9e",
        "colab_type": "text"
      },
      "source": [
        "We now fit the discriminator to our data distribution and plot the result."
      ],
      "cell_type": "markdown"
    },
    {
      "metadata": {
        "id": "Hrf3wI3YmuIF",
        "colab_type": "code",
        "colab": {
          "autoexec": {
            "startup": false,
            "wait_interval": 0
          }
        }
      },
      "source": [
        "def mse_loss(model, x, y):\n",
        "  y_ = model(x)\n",
        "  return tf.losses.mean_squared_error(y, y_)"
      ],
      "cell_type": "code",
      "execution_count": 0,
      "outputs": []
    },
    {
      "metadata": {
        "id": "WXNQovM0muIS",
        "colab_type": "code",
        "colab": {
          "autoexec": {
            "startup": false,
            "wait_interval": 0
          }
        }
      },
      "source": [
        "FIT_ITERS = 3000\n",
        "loss_history = np.zeros(FIT_ITERS)\n",
        "\n",
        "for i in range(FIT_ITERS):\n",
        "  # Sample batch from data distribution\n",
        "  d = (np.random.random(M)-0.5) * 10.0 # instead of sampling only from gaussian, want the domain to be covered as uniformly as possible\n",
        "  labels = norm.pdf(d, loc=mean, scale=variance)\n",
        "\n",
        "  # Shape batch samples\n",
        "  x = np.reshape(d, (M,1))\n",
        "  y = np.reshape(labels, (M, 1))\n",
        "  \n",
        "  # Compute all partial derivatives of the MSE loss\n",
        "  loss_history[i], grads_and_vars = tfe.implicit_value_and_gradients(mse_loss)(D, x, y)\n",
        "\n",
        "  # Optimize\n",
        "  discriminator_optimizer.apply_gradients(grads_and_vars, global_step=batch)"
      ],
      "cell_type": "code",
      "execution_count": 0,
      "outputs": []
    },
    {
      "metadata": {
        "id": "wjCf4cf5muIT",
        "colab_type": "code",
        "colab": {
          "autoexec": {
            "startup": false,
            "wait_interval": 0
          },
          "output_extras": [
            {
              "item_id": 1
            },
            {
              "item_id": 2
            }
          ],
          "base_uri": "https://localhost:8080/",
          "height": 297
        },
        "outputId": "2d35c47d-e5fa-40be-e420-2722ecbc67a9",
        "executionInfo": {
          "status": "ok",
          "timestamp": 1514570034939,
          "user_tz": -60,
          "elapsed": 464,
          "user": {
            "displayName": "Joppe Geluykens",
            "photoUrl": "//lh3.googleusercontent.com/-u5lK1xWCYts/AAAAAAAAAAI/AAAAAAAABBI/Ep77HQ5tBIc/s50-c-k-no/photo.jpg",
            "userId": "107236456363263425133"
          }
        }
      },
      "source": [
        "plt.plot(loss_history)\n",
        "plt.title('Training Loss')"
      ],
      "cell_type": "code",
      "execution_count": 13,
      "outputs": [
        {
          "output_type": "execute_result",
          "data": {
            "text/plain": [
              "Text(0.5,1,'Training Loss')"
            ]
          },
          "metadata": {
            "tags": []
          },
          "execution_count": 13
        },
        {
          "output_type": "display_data",
          "data": {
            "image/png": "[encoded data removed]",
            "text/plain": [
              "<matplotlib.figure.Figure at 0x7f069205c978>"
            ]
          },
          "metadata": {
            "tags": []
          }
        }
      ]
    },
    {
      "metadata": {
        "id": "aYmja2GGmuIV",
        "colab_type": "code",
        "colab": {
          "autoexec": {
            "startup": false,
            "wait_interval": 0
          },
          "output_extras": [
            {
              "item_id": 1
            },
            {
              "item_id": 2
            }
          ],
          "base_uri": "https://localhost:8080/",
          "height": 297
        },
        "outputId": "24bb01ae-b154-423e-df02-7d080e500214",
        "executionInfo": {
          "status": "ok",
          "timestamp": 1514570035571,
          "user_tz": -60,
          "elapsed": 488,
          "user": {
            "displayName": "Joppe Geluykens",
            "photoUrl": "//lh3.googleusercontent.com/-u5lK1xWCYts/AAAAAAAAAAI/AAAAAAAABBI/Ep77HQ5tBIc/s50-c-k-no/photo.jpg",
            "userId": "107236456363263425133"
          }
        }
      },
      "source": [
        "plot_fig(D)\n",
        "plt.title('Discriminator after fitting to p_data')"
      ],
      "cell_type": "code",
      "execution_count": 14,
      "outputs": [
        {
          "output_type": "execute_result",
          "data": {
            "text/plain": [
              "Text(0.5,1,'Discriminator after fitting to p_data')"
            ]
          },
          "metadata": {
            "tags": []
          },
          "execution_count": 14
        },
        {
          "output_type": "display_data",
          "data": {
            "image/png": "[encoded data removed]",
            "text/plain": [
              "<matplotlib.figure.Figure at 0x7f0691d58780>"
            ]
          },
          "metadata": {
            "tags": []
          }
        }
      ]
    },
    {
      "metadata": {
        "id": "AG3GtNn3muIW",
        "colab_type": "text"
      },
      "source": [
        "## Generative adversarial network"
      ],
      "cell_type": "markdown"
    },
    {
      "metadata": {
        "id": "NzvRHsFkAnFY",
        "colab_type": "text"
      },
      "source": [
        "### Instantiating generator network\n",
        "We now instantiate an MLP object which we'll use as our generator."
      ],
      "cell_type": "markdown"
    },
    {
      "metadata": {
        "id": "viaT2EKOmuIX",
        "colab_type": "code",
        "colab": {
          "autoexec": {
            "startup": false,
            "wait_interval": 0
          }
        }
      },
      "source": [
        "with tf.variable_scope(\"G\"):\n",
        "  G = MLP()"
      ],
      "cell_type": "code",
      "execution_count": 0,
      "outputs": []
    },
    {
      "metadata": {
        "id": "KGUHu-SwBjS-",
        "colab_type": "text"
      },
      "source": [
        "Again, we'll train the network using momentum:"
      ],
      "cell_type": "markdown"
    },
    {
      "metadata": {
        "id": "pXoT2iQeBinZ",
        "colab_type": "code",
        "colab": {
          "autoexec": {
            "startup": false,
            "wait_interval": 0
          }
        }
      },
      "source": [
        "batch_g = tfe.Variable(0)\n",
        "learning_rate = tf.train.exponential_decay(\n",
        "  0.001,  # Base learning rate.\n",
        "  batch_g,  # Current index into the dataset.\n",
        "  TRAIN_ITERS // 4,  # Decay step - this decays 4 times throughout training process.\n",
        "  0.95,  # Decay rate.\n",
        "  staircase=True)\n",
        "opt_g=tf.train.MomentumOptimizer(learning_rate, 0.6)"
      ],
      "cell_type": "code",
      "execution_count": 0,
      "outputs": []
    },
    {
      "metadata": {
        "id": "DtNl2NRymuIY",
        "colab_type": "text"
      },
      "source": [
        "Let's see what the situation looks like before training."
      ],
      "cell_type": "markdown"
    },
    {
      "metadata": {
        "id": "omFGXC9rmuIa",
        "colab_type": "code",
        "colab": {
          "autoexec": {
            "startup": false,
            "wait_interval": 0
          },
          "output_extras": [
            {
              "item_id": 1
            },
            {
              "item_id": 2
            }
          ],
          "base_uri": "https://localhost:8080/",
          "height": 297
        },
        "outputId": "5b017dcd-b4c7-4442-fd44-5d776e8d49b6",
        "executionInfo": {
          "status": "ok",
          "timestamp": 1514570037596,
          "user_tz": -60,
          "elapsed": 631,
          "user": {
            "displayName": "Joppe Geluykens",
            "photoUrl": "//lh3.googleusercontent.com/-u5lK1xWCYts/AAAAAAAAAAI/AAAAAAAABBI/Ep77HQ5tBIc/s50-c-k-no/photo.jpg",
            "userId": "107236456363263425133"
          }
        }
      },
      "source": [
        "plot_fig(D, G)\n",
        "plt.title('Before Training')"
      ],
      "cell_type": "code",
      "execution_count": 17,
      "outputs": [
        {
          "output_type": "execute_result",
          "data": {
            "text/plain": [
              "Text(0.5,1,'Before Training')"
            ]
          },
          "metadata": {
            "tags": []
          },
          "execution_count": 17
        },
        {
          "output_type": "display_data",
          "data": {
            "image/png": "[encoded data removed]",
            "text/plain": [
              "<matplotlib.figure.Figure at 0x7f0691d7b3c8>"
            ]
          },
          "metadata": {
            "tags": []
          }
        }
      ]
    },
    {
      "metadata": {
        "id": "PpJQ45zQo2UN",
        "colab_type": "text"
      },
      "source": [
        "### Defining the zero-sum game\n",
        "We define the value function (loss) as in *Goodfellow et al. (2016)*:\n",
        "$$ v(\\boldsymbol{\\theta}^{(g)}, \\boldsymbol{\\theta}^{(d)}) = \\mathbb{E}_{x\\sim p_{data}} \\log d(\\boldsymbol{x}) + \\mathbb{E}_{x\\sim p_{model}} \\log (1 - d(\\boldsymbol{x})).$$\n",
        "\n",
        "The discriminator and generator will play a zero-sum game. The discriminator will try to maximize this value function, while the generator tries to minimize it."
      ],
      "cell_type": "markdown"
    },
    {
      "metadata": {
        "id": "K9um60GWmuIc",
        "colab_type": "code",
        "colab": {
          "autoexec": {
            "startup": false,
            "wait_interval": 0
          }
        }
      },
      "source": [
        "def value_function(D, G, x, z):\n",
        "  # D(x), x sampled from data distribution\n",
        "  p_norm_data = D(x) # output likelihood of being normally distributed\n",
        "  D1 = tf.maximum(tf.minimum(p_norm_data, .99), 0.01) # clamp as a probability\n",
        "\n",
        "  # D(x), x sampled from model distribution as G(z)\n",
        "  generated_samples = G(z)\n",
        "  generated_samples = tf.multiply(5.0, generated_samples)\n",
        "  p_norm_gen = D(generated_samples)\n",
        "  D2 = tf.maximum(tf.minimum(p_norm_gen, .99), 0.01)\n",
        "  \n",
        "  # v(\\theta^g, \\theta^d)\n",
        "  loss = tf.reduce_mean(tf.log(D1) + tf.log(1 - D2))\n",
        "  return loss\n",
        "\n",
        "def neg_value_function(D, G, x, z):\n",
        "  '''Because our optimizers will minimize the loss function passed in,\n",
        "  we define the _negative_ value function.\n",
        "  \n",
        "  Instead of maximizing the value function, \n",
        "  the discriminator will minimize this _negative_ value function.\n",
        "  '''\n",
        "  return -value_function(D, G, x, z)"
      ],
      "cell_type": "code",
      "execution_count": 0,
      "outputs": []
    },
    {
      "metadata": {
        "id": "XmsH9kFtmuIc",
        "colab_type": "text"
      },
      "source": [
        "### Ready, set, GO!"
      ],
      "cell_type": "markdown"
    },
    {
      "metadata": {
        "id": "3RUHLFd0IXcX",
        "colab_type": "text"
      },
      "source": [
        "Some helpers for drawing samples from data and noise prior, respectively."
      ],
      "cell_type": "markdown"
    },
    {
      "metadata": {
        "id": "qpmyerufFirP",
        "colab_type": "code",
        "colab": {
          "autoexec": {
            "startup": false,
            "wait_interval": 0
          }
        }
      },
      "source": [
        "def sample_data(batch_size=200):\n",
        "  x = np.random.normal(mean, variance, batch_size)\n",
        "  x.sort()\n",
        "  x = tf.constant(np.reshape(x, (batch_size, 1)))\n",
        "  return x\n",
        "\n",
        "def sample_noise_prior(batch_size=200):\n",
        "  z = np.linspace(-5.0, 5.0, M) + np.random.random(M) * 0.01\n",
        "  z = tf.constant(np.reshape(z, (M, 1)))\n",
        "  return z"
      ],
      "cell_type": "code",
      "execution_count": 0,
      "outputs": []
    },
    {
      "metadata": {
        "id": "iNM-CJTVIWS2",
        "colab_type": "text"
      },
      "source": [
        "Optimize generator and discriminator networks."
      ],
      "cell_type": "markdown"
    },
    {
      "metadata": {
        "id": "g79YI0_lmuId",
        "colab_type": "code",
        "colab": {
          "autoexec": {
            "startup": false,
            "wait_interval": 0
          },
          "output_extras": [
            {
              "item_id": 1
            },
            {
              "item_id": 2
            }
          ],
          "base_uri": "https://localhost:8080/",
          "height": 282
        },
        "outputId": "daa582b2-ce28-426e-faa8-d67a0af0ca7f",
        "executionInfo": {
          "status": "ok",
          "timestamp": 1514570916704,
          "user_tz": -60,
          "elapsed": 4387,
          "user": {
            "displayName": "Joppe Geluykens",
            "photoUrl": "//lh3.googleusercontent.com/-u5lK1xWCYts/AAAAAAAAAAI/AAAAAAAABBI/Ep77HQ5tBIc/s50-c-k-no/photo.jpg",
            "userId": "107236456363263425133"
          }
        }
      },
      "source": [
        "# Algorithm 1 of Goodfellow et al. (2014)\n",
        "\n",
        "# Number of discriminator updates per epoch\n",
        "k = 5\n",
        "# Setup log of loss throughout training\n",
        "histd, histg = np.zeros(TRAIN_ITERS), np.zeros(TRAIN_ITERS)\n",
        "\n",
        "for i in range(TRAIN_ITERS):\n",
        "  # Train discriminator.\n",
        "  for j in range(k):\n",
        "    ## 1) Sample data,\n",
        "    x = sample_data(batch_size=M)\n",
        "    \n",
        "    ## 2) Sample noise prior,\n",
        "    z = sample_noise_prior(batch_size=M)\n",
        "\n",
        "    ## 3) Compute all partial derivatives of the loss function,\n",
        "    histd[i], grads_and_vars = tfe.implicit_value_and_gradients(neg_value_function)(D, G, x, z)\n",
        "    \n",
        "    ## 4) Optimize discriminator, and not generator (!).\n",
        "    discriminator_grads_and_vars = [gv for gv in grads_and_vars if gv[1].name.startswith('D/')]\n",
        "    discriminator_optimizer.apply_gradients(discriminator_grads_and_vars, global_step=batch)\n",
        "\n",
        "  # Train generator.\n",
        "  ## 1) Sample noise prior,\n",
        "  z = sample_noise_prior(batch_size=M)\n",
        "  \n",
        "  ## 2) Compute all partial derivatives of the loss function\n",
        "  histg[i], grads_and_vars = tfe.implicit_value_and_gradients(value_function)(D, G, x, z)\n",
        "  \n",
        "  ## 3) Optimize generator, and not discriminator (!)\n",
        "  generator_grads_and_vars = [gv for gv in grads_and_vars if gv[1].name.startswith('G/')]\n",
        "  opt_g.apply_gradients(generator_grads_and_vars, global_step=batch)\n",
        "\n",
        "  # Illustrate current situation.\n",
        "  if i % 100 == 0:\n",
        "    print(float(i) / float(TRAIN_ITERS))\n",
        "    \n",
        "    ## Update plot\n",
        "    plot_fig(D, G)\n",
        "    display.display(plt.gcf())\n",
        "    display.clear_output(wait=True)\n",
        "\n",
        "# Make sure only one plot remains in the output of this cell.\n",
        "%matplotlib inline"
      ],
      "cell_type": "code",
      "execution_count": 20,
      "outputs": [
        {
          "output_type": "stream",
          "text": [
            "0.995\n"
          ],
          "name": "stdout"
        },
        {
          "output_type": "display_data",
          "data": {
            "image/png": "[encoded data removed]",
            "text/plain": [
              "<matplotlib.figure.Figure at 0x7f0680579668>"
            ]
          },
          "metadata": {
            "tags": []
          }
        }
      ]
    },
    {
      "metadata": {
        "id": "XxdwDtbqb1zJ",
        "colab_type": "text"
      },
      "source": [
        "As we can see in the plot above, the generator does a (reasonably) good job at outputting samples that resemble the data distribution. We can see that the discriminator outputs a value between 40% and 50%, as we'd expect at this point. The discriminator is unable to distinguish between a real and a generated sample."
      ],
      "cell_type": "markdown"
    },
    {
      "metadata": {
        "id": "8Q3zyxLxmuIf",
        "colab_type": "code",
        "colab": {
          "autoexec": {
            "startup": false,
            "wait_interval": 0
          },
          "output_extras": [
            {
              "item_id": 1
            },
            {
              "item_id": 2
            }
          ],
          "base_uri": "https://localhost:8080/",
          "height": 297
        },
        "outputId": "1a2afb70-8426-482d-9c9a-f59476cd35e9",
        "executionInfo": {
          "status": "ok",
          "timestamp": 1514571054750,
          "user_tz": -60,
          "elapsed": 713,
          "user": {
            "displayName": "Joppe Geluykens",
            "photoUrl": "//lh3.googleusercontent.com/-u5lK1xWCYts/AAAAAAAAAAI/AAAAAAAABBI/Ep77HQ5tBIc/s50-c-k-no/photo.jpg",
            "userId": "107236456363263425133"
          }
        }
      },
      "source": [
        "plt.plot(range(TRAIN_ITERS), histd, label='obj_d')\n",
        "plt.plot(range(TRAIN_ITERS), 1 - histg, label='obj_g')\n",
        "plt.legend()\n",
        "plt.title('History of loss throughout training')"
      ],
      "cell_type": "code",
      "execution_count": 22,
      "outputs": [
        {
          "output_type": "execute_result",
          "data": {
            "text/plain": [
              "Text(0.5,1,'History of loss throughout training')"
            ]
          },
          "metadata": {
            "tags": []
          },
          "execution_count": 22
        },
        {
          "output_type": "display_data",
          "data": {
            "image/png": "[encoded data removed]",
            "text/plain": [
              "<matplotlib.figure.Figure at 0x7f06803eb048>"
            ]
          },
          "metadata": {
            "tags": []
          }
        }
      ]
    }
  ]
}